{
 "cells": [
  {
   "cell_type": "code",
   "execution_count": 12,
   "metadata": {},
   "outputs": [],
   "source": [
    "# Give shool years & corresponding number of students\n",
    "school_years = [2010, 2011, 2012, 2013, 2014, 2015, 2016, 2017, 2018, 2019]\n",
    "total_students = [3115, 3420, 3287, 2998, 3514, 3184, 3337, 3409, 3240, 3451]"
   ]
  },
  {
   "cell_type": "code",
   "execution_count": 15,
   "metadata": {},
   "outputs": [
    {
     "name": "stdout",
     "output_type": "stream",
     "text": [
      "The sum of total number of students in odd years is:  16599\n",
      "THIS WAS WRONG\n",
      "The sum of total number of students in odd years is:  16462\n",
      "The sum of total number of students in even years is:  16493\n"
     ]
    }
   ],
   "source": [
    "# Ex1.1: Calculte the sum of total number of students in odd years\n",
    "\n",
    "oddsum = 0\n",
    "for odd in range(len(school_years)):\n",
    "    if ((total_students[odd] % 2) != 0):\n",
    "        oddsum += total_students[odd]\n",
    "print('The sum of total number of students in odd years is: ', oddsum)\n",
    "print('THIS WAS WRONG')\n",
    "\n",
    "print('The sum of total number of students in odd years is: ', sum(total_students[1::2]))\n",
    "\n",
    "# Ex1.2: Calculte the sum of total number of students in even years\n",
    "\n",
    "print('The sum of total number of students in even years is: ', sum(total_students[0::2]))"
   ]
  },
  {
   "cell_type": "code",
   "execution_count": 20,
   "metadata": {},
   "outputs": [
    {
     "name": "stdout",
     "output_type": "stream",
     "text": [
      "The year when there are the most students enrolled:  2014\n",
      "The year when there are the least students enrolled:  2013\n"
     ]
    }
   ],
   "source": [
    "\n",
    "# Ex2.1: Find the year when there are the most students enrolled\n",
    "\n",
    "print('The year when there are the most students enrolled: ', school_years[total_students.index(max(total_students))])\n",
    "\n",
    "# Ex2.2: Find the year when there are the least students enrolled\n",
    "\n",
    "print('The year when there are the least students enrolled: ', school_years[total_students.index(min(total_students))])"
   ]
  },
  {
   "cell_type": "code",
   "execution_count": 34,
   "metadata": {},
   "outputs": [
    {
     "name": "stdout",
     "output_type": "stream",
     "text": [
      "The average number of students:  3295.5\n",
      "2011      :      3420\n",
      "2014      :      3514\n",
      "2016      :      3337\n",
      "2017      :      3409\n",
      "2019      :      3451\n",
      "[2011, 2014, 2016, 2017, 2019]\n",
      "[3420, 3514, 3337, 3409, 3451]\n",
      "2011      :      3420\n",
      "2014      :      3514\n",
      "2016      :      3337\n",
      "2017      :      3409\n",
      "2019      :      3451\n",
      "[[[2011, 2014, 2016, 2017, 2019]], [[3420, 3514, 3337, 3409, 3451]]]\n"
     ]
    }
   ],
   "source": [
    "\n",
    "# Ex3: Calculate the average number of students and find years \n",
    "\n",
    "average = 0\n",
    "average = sum(total_students) / len(school_years)\n",
    "print('The average number of students: ', average)\n",
    "\n",
    "# when the number of students is above the average\n",
    "\n",
    "for year in range(len(school_years)):\n",
    "    if total_students[year] > average:\n",
    "        print('{:<10d}:{:>10.0f}'.format(school_years[year], total_students[year]))\n",
    "\n",
    "the_students_above_the_average = [n for n in total_students if n > average]\n",
    "tsatb_year = [school_years[i] for i in range(len(total_students)) if total_students[i] > average]\n",
    "\n",
    "print(tsatb_year)\n",
    "print(the_students_above_the_average)\n",
    "\n",
    "for x in range(len(tsatb_year)):\n",
    "    print('{:<10d}:{:>10d}'.format(tsatb_year[x], the_students_above_the_average[x]))\n",
    "\n",
    "the_print = [[tsatb_year], [the_students_above_the_average]]\n",
    "print(the_print)"
   ]
  },
  {
   "cell_type": "code",
   "execution_count": 14,
   "metadata": {},
   "outputs": [
    {
     "name": "stdout",
     "output_type": "stream",
     "text": [
      "The number of stundents in the year  2010 is:  3115\n"
     ]
    }
   ],
   "source": [
    "# Ex4: User enters a year, find the number of students in that year\n",
    "\n",
    "year = int(input('Enter the year: '))\n",
    "if year not in school_years:\n",
    "    print('No data')\n",
    "else:\n",
    "    print('The number of stundents in the year ', year, 'is: ', total_students[school_years.index(year)])\n",
    "\n",
    "# If the year is not in the list, print \"No data\""
   ]
  },
  {
   "cell_type": "code",
   "execution_count": null,
   "metadata": {},
   "outputs": [],
   "source": [
    "# Ex5: Count how many times the number of students increases from one year to the next\n",
    "# and how many times it decreases. \n",
    "# For example, from 2010 to 2011, the number of students increases\n",
    "# and from 2011 to 2012, the number of students decreases."
   ]
  },
  {
   "cell_type": "code",
   "execution_count": 3,
   "metadata": {},
   "outputs": [
    {
     "name": "stdout",
     "output_type": "stream",
     "text": [
      "[94, 76, 20, -11, 12, -55, 71, -19, 51, 87, -50, -67, -59, -82, -31]\n",
      "[94, 76, 20, 12, -50, -82]\n",
      "[-11, -55, -19, -50, -67, -59, -82, -31]\n"
     ]
    }
   ],
   "source": [
    "# List comprehensio: create a new list use for loop & original list\n",
    "# General syntax: [x for n in seq if cond...]\n",
    "\n",
    "import random as rd\n",
    "numbers = rd.sample(range(-100, 100), 15)\n",
    "print(numbers)\n",
    "evens = [n for n in numbers if n % 2 == 0]\n",
    "print(evens)\n",
    "negatives = [n for n in numbers if n < 0]\n",
    "print(negatives)"
   ]
  },
  {
   "cell_type": "code",
   "execution_count": 34,
   "metadata": {},
   "outputs": [
    {
     "name": "stdout",
     "output_type": "stream",
     "text": [
      "Longest name is  John Yoko Lenno\n",
      "Longest name is  John Yoko Lenno\n"
     ]
    }
   ],
   "source": [
    "the_beatles = ['John Yoko Lenno', 'Paul McCartney', 'Geogre Harrison', 'Ringo Starr']\n",
    "lengths = [len(n) for n in the_beatles]\n",
    "# find the longest name\n",
    "print('Longest name is ', the_beatles[lengths.index(max(lengths))])\n",
    "print('Longest name is ', max(the_beatles, key=len))\n",
    "# print(max(the_beatles)) # not correct, max by alphabetical order"
   ]
  },
  {
   "cell_type": "code",
   "execution_count": 4,
   "metadata": {},
   "outputs": [
    {
     "name": "stdout",
     "output_type": "stream",
     "text": [
      "[94, 76, 20, -11, 12, -55, 71, -19, 51, 87, -50, -67, -59, -82, -31]\n",
      "[94, 76, 20, 11, 12, 55, 71, 19, 51, 87, 50, 67, 59, 82, 31]\n"
     ]
    }
   ],
   "source": [
    "# convert old list to new list using list comprehension\n",
    "\n",
    "print(numbers)\n",
    "new_numbers = [n if n > 0 else -n for n in numbers]\n",
    "print(new_numbers)"
   ]
  },
  {
   "cell_type": "code",
   "execution_count": 9,
   "metadata": {},
   "outputs": [
    {
     "name": "stdout",
     "output_type": "stream",
     "text": [
      "There are:  6\n"
     ]
    }
   ],
   "source": [
    "# Count how many even numbers in the list new_numbers\n",
    "\n",
    "print('There are: ', len([n for n in new_numbers if n % 2 == 0]))\n",
    "print('There are: ', sum([1 if n % 2 == 0 else 0 for n in new_numbers]))"
   ]
  }
 ],
 "metadata": {
  "kernelspec": {
   "display_name": "Python 3.10.8 64-bit",
   "language": "python",
   "name": "python3"
  },
  "language_info": {
   "codemirror_mode": {
    "name": "ipython",
    "version": 3
   },
   "file_extension": ".py",
   "mimetype": "text/x-python",
   "name": "python",
   "nbconvert_exporter": "python",
   "pygments_lexer": "ipython3",
   "version": "3.10.8"
  },
  "orig_nbformat": 4,
  "vscode": {
   "interpreter": {
    "hash": "5cd147847f5c9c61d04539150fa2ef565c6a07a09a1f8c3016ed38fa032adcf0"
   }
  }
 },
 "nbformat": 4,
 "nbformat_minor": 2
}
