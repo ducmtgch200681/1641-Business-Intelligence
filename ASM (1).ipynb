{
 "cells": [
  {
   "cell_type": "code",
   "execution_count": null,
   "metadata": {},
   "outputs": [],
   "source": [
    "#draft\n",
    "import csv\n",
    "\n",
    "fr = open('CarRentalData.csv','r') #read file\n",
    "reader = csv.reader(fr)\n",
    "header = next(reader)\n",
    "\n",
    "# remove header of location.country, owner.id\n",
    "del header[5]\n",
    "del header[9] \n",
    "\n",
    "fw = open('CarRentalData_clean.csv', 'w', newline='')\n",
    "\n",
    "writer = csv.writer(fw)\n",
    "writer.writerow(header) #write header\n",
    "\n",
    "clean_data = []\n",
    "viet_tat = ['CA', 'NV']\n",
    "viet_tuong_minh = ['California', 'Nevada']\n",
    "for row in reader:\n",
    "    del row[5] #delete row location.country, owner.id\n",
    "    del row[9]\n",
    "\n",
    "    row[0] = row[0].lower() #lower case \n",
    "    if row[7] in viet_tat:\n",
    "        index_number = viet_tat.index(row[7])\n",
    "        row[7] = viet_tuong_minh[index_number]\n",
    "    \n",
    "    clean_data.append(row)\n",
    "    writer.writerow(row)\n",
    "\n",
    "fr.close\n",
    "fw.close\n",
    "\n"
   ]
  },
  {
   "cell_type": "code",
   "execution_count": 19,
   "metadata": {},
   "outputs": [
    {
     "name": "stdout",
     "output_type": "stream",
     "text": [
      "46\n"
     ]
    },
    {
     "data": {
      "text/plain": [
       "<function TextIOWrapper.close()>"
      ]
     },
     "execution_count": 19,
     "metadata": {},
     "output_type": "execute_result"
    }
   ],
   "source": [
    "import csv # I import file csv \n",
    "\n",
    "state = {'WA':'Western Australia', 'NM':'New Mexico', 'GA':'Georgia', \n",
    "'SC':'South Carolina', 'FL':'Florida', 'TX':'Texas', 'NC':'North Carolina',\n",
    "'CT':'Connecticut', 'MA':'Massachusetts', 'ME':'Maine', 'AL':'Alabama', \n",
    "'MT':'Mato Grosso', 'TN': 'Tennessee', 'KY':'Kentucky', 'ID':'Idaho',\n",
    "'UT':'Union Territory', 'MD':'Maryland', 'IA': 'Iowa', 'OH': 'Ohio',\n",
    "'CO':'Colorado', 'VA':'Virginia', 'MD':'Maryland', 'DC':'WashintonDC',\n",
    "'MI':'Michigan', 'NJ':'New Jersey', 'IN': 'Unknow', 'KS': 'Kansas', 'MO':'Missouri',\n",
    "'NV':'Nevada', 'CA':'California', 'LA':'Los Angeles', 'AR':'Arkansas',\n",
    "'IL':'ILLinois', 'MS':'Mississippi', 'NH':'New Hampshire', 'WI':'Wisconsin',\n",
    "'MN':'Minnesota', 'OK':'Oklahoma', 'NE':'Nebraska', 'OR':'Unknow', 'PA':'Pennsylvania',\n",
    "'NJ':'New Jersey', 'DE':'Delaware', 'AJ':'Arizona', 'WV':'West Virginia', \n",
    "'NC':'North Carolina', 'UT':'Union Territory', 'AZ':'Amazonas', 'AK':'Alaska',\n",
    "'HI':'Himalayas'} # I use dictionary with key and corresponding value \n",
    "\n",
    "fr = open('CarRentalData.csv', 'r') #This syntax is used to read file\n",
    "reader = csv.reader(fr)\n",
    "header = next(reader)\n",
    "\n",
    "# remove header of location.country, owner.id\n",
    "del header[5]\n",
    "del header[9] \n",
    "\n",
    "fw = open('CarRentalData_clean.csv', 'w', newline='') #this syntax is used to write new file, newline is use to add new line to file \n",
    "writer = csv.writer(fw)\n",
    "writer.writerow(header) #write header in clean file\n",
    "print(len(state))\n",
    "clean_data = []\n",
    "for row in reader:\n",
    "    del row[5] #delete row location.country and owner.id \n",
    "    del row[9]\n",
    "\n",
    "    row[0] = row[0].lower() #This syntax is used to lower string in row[0]  \n",
    "    #row[7] insted of row[8] because row row location.country has already being deleted \n",
    "    for i in state: # i: key of dictionary 'state'\n",
    "        if row[7] == i:         #if value of row[7] matched with key in dictionary 'state'\n",
    "            row[7] = state[i]   \n",
    "            #then value of row[7] will be changed by value of dictionary 'state' with corresponding key  \n",
    "    clean_data.append(row)\n",
    "    writer.writerow(row) \n",
    "\n",
    "fr.close()\n",
    "fw.close()\n"
   ]
  },
  {
   "cell_type": "code",
   "execution_count": null,
   "metadata": {},
   "outputs": [],
   "source": [
    "state = {'WA':'Western Australia', 'NM':'New Mexico', 'GA':'Georgia', \n",
    "'SC':'South Carolina', 'FL':'Florida', 'TX':'Texas', 'NC':'North Carolina',\n",
    "'CT':'Connecticut', 'MA':'Massachusetts', 'ME':'Maine', 'AL':'Alabama', \n",
    "'MT':'Mato Grosso', 'TN': 'Tennessee', 'KY':'Kentucky', 'ID':'Idaho',\n",
    "'UT':'Union Territory', 'MD':'Maryland', 'IA': 'Iowa', 'OH': 'Ohio',\n",
    "'CO':'Colorado', 'VA':'Virginia', 'MD':'Maryland', 'DC':'WashintonDC',\n",
    "'MI':'Michigan', 'NJ':'New Jersey', 'IN': 'Unknow', 'KS': 'Kansas', 'MO':'Missouri',\n",
    "'NV':'Nevada', 'CA':'California', 'LA':'Los Angeles', 'AR':'Arkansas',\n",
    "'IL':'ILLinois', 'MS':'Mississippi', 'NH':'New Hampshire', 'WI':'Wisconsin',\n",
    "'MN':'Minnesota', 'OK':'Oklahoma', 'NE':'Nebraska', 'OR':'Unknow', 'PA':'Pennsylvania',\n",
    "'NJ':'New Jersey', 'DE':'Delaware', 'AJ':'Arizona', 'WV':'West Virginia', \n",
    "'NC':'North Carolina', 'UT':'Union Territory', 'AZ':'Amazonas', 'AK':'Alaska',\n",
    "'HI':'Himalayas'}"
   ]
  }
 ],
 "metadata": {
  "kernelspec": {
   "display_name": "Python 3",
   "language": "python",
   "name": "python3"
  },
  "language_info": {
   "codemirror_mode": {
    "name": "ipython",
    "version": 3
   },
   "file_extension": ".py",
   "mimetype": "text/x-python",
   "name": "python",
   "nbconvert_exporter": "python",
   "pygments_lexer": "ipython3",
   "version": "3.10.9 (tags/v3.10.9:1dd9be6, Dec  6 2022, 20:01:21) [MSC v.1934 64 bit (AMD64)]"
  },
  "orig_nbformat": 4,
  "vscode": {
   "interpreter": {
    "hash": "1fa163922eb0b3709bbb5d8082b2465c9de796dbaacca80cbaa600e7fff3e4fe"
   }
  }
 },
 "nbformat": 4,
 "nbformat_minor": 2
}
