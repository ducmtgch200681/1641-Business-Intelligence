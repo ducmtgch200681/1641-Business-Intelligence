{
 "cells": [
  {
   "cell_type": "code",
   "execution_count": 1,
   "metadata": {},
   "outputs": [],
   "source": [
    "def my_sort(a, compare=lambda x, y: x > y):\n",
    "    n = len(a)\n",
    "    for i in range(n-1):\n",
    "        for j in range(i + 1, n):\n",
    "            if compare(a[i], a[j]):\n",
    "                a[i], a[j] = a[j], a[i]"
   ]
  },
  {
   "cell_type": "code",
   "execution_count": 2,
   "metadata": {},
   "outputs": [
    {
     "name": "stdout",
     "output_type": "stream",
     "text": [
      "[46, 32, 83, 30, 34, 49, 94, 49, 68, 79]\n",
      "[30, 32, 34, 46, 49, 49, 68, 79, 83, 94]\n",
      "[94, 83, 79, 68, 49, 49, 46, 34, 32, 30]\n"
     ]
    }
   ],
   "source": [
    "import random as rd \n",
    "numbers = [rd.randint(10,99) for _ in range(10)]\n",
    "print(numbers)\n",
    "my_sort(numbers)\n",
    "print(numbers)\n",
    "my_sort(numbers, compare=lambda x, y: x < y)\n",
    "print(numbers)"
   ]
  },
  {
   "cell_type": "code",
   "execution_count": 7,
   "metadata": {},
   "outputs": [
    {
     "name": "stdout",
     "output_type": "stream",
     "text": [
      "[30, 32, 83, 34, 94, 46, 68, 49, 79, 49]\n"
     ]
    }
   ],
   "source": [
    "# sort ascending by the last digit\n",
    "my_sort(numbers, compare=lambda x, y: x % 10 > y % 10)\n",
    "print(numbers)"
   ]
  },
  {
   "cell_type": "code",
   "execution_count": 5,
   "metadata": {},
   "outputs": [
    {
     "name": "stdout",
     "output_type": "stream",
     "text": [
      "[49, 49, 79, 68, 46, 94, 34, 83, 32, 30]\n"
     ]
    }
   ],
   "source": [
    "# sort descending by the last digit\n",
    "my_sort(numbers, compare=lambda x, y: x % 10 < y % 10)\n",
    "print(numbers)"
   ]
  },
  {
   "cell_type": "code",
   "execution_count": 11,
   "metadata": {},
   "outputs": [
    {
     "name": "stdout",
     "output_type": "stream",
     "text": [
      "[30, 32, 34, 46, 83, 49, 49, 94, 68, 79]\n"
     ]
    }
   ],
   "source": [
    "# sort ascending by sum of 2 digits\n",
    "my_sort(numbers, compare=lambda x, y: x // 10 + x % 10 > y // 10 + y % 10)\n",
    "print(numbers)"
   ]
  },
  {
   "cell_type": "code",
   "execution_count": 10,
   "metadata": {},
   "outputs": [
    {
     "name": "stdout",
     "output_type": "stream",
     "text": [
      "[79, 68, 49, 94, 49, 83, 46, 34, 32, 30]\n"
     ]
    }
   ],
   "source": [
    "# sort descending by sum of 2 digits\n",
    "my_sort(numbers, compare=lambda x, y: x // 10 + x % 10 < y // 10 + y % 10)\n",
    "print(numbers)"
   ]
  },
  {
   "cell_type": "code",
   "execution_count": 18,
   "metadata": {},
   "outputs": [
    {
     "name": "stdout",
     "output_type": "stream",
     "text": [
      "['Angelina Jolie', 'Brad Pitt', 'Jennifer Aniston', 'Leonardo DiCaprio', 'Tom Hanks']\n"
     ]
    }
   ],
   "source": [
    "names = ['Tom Hanks', 'Brad Pitt', 'Angelina Jolie', 'Leonardo DiCaprio', 'Jennifer Aniston']\n",
    "descen = compare=lambda x, y: x < y\n",
    "# sort names ascending by alphabet\n",
    "my_sort(names)\n",
    "print(names)"
   ]
  },
  {
   "cell_type": "code",
   "execution_count": 16,
   "metadata": {},
   "outputs": [
    {
     "name": "stdout",
     "output_type": "stream",
     "text": [
      "['Tom Hanks', 'Leonardo DiCaprio', 'Jennifer Aniston', 'Brad Pitt', 'Angelina Jolie']\n"
     ]
    }
   ],
   "source": [
    "# sort names descending by alphabet\n",
    "my_sort(names, compare=descen)\n",
    "print(names)"
   ]
  },
  {
   "cell_type": "code",
   "execution_count": 19,
   "metadata": {},
   "outputs": [
    {
     "name": "stdout",
     "output_type": "stream",
     "text": [
      "['Brad Pitt', 'Tom Hanks', 'Angelina Jolie', 'Jennifer Aniston', 'Leonardo DiCaprio']\n"
     ]
    }
   ],
   "source": [
    "# sort name ascending by length of name\n",
    "my_sort(names, compare=lambda x, y: len(x) > len(y))\n",
    "print(names)"
   ]
  },
  {
   "cell_type": "code",
   "execution_count": 20,
   "metadata": {},
   "outputs": [
    {
     "name": "stdout",
     "output_type": "stream",
     "text": [
      "['Leonardo DiCaprio', 'Jennifer Aniston', 'Angelina Jolie', 'Tom Hanks', 'Brad Pitt']\n"
     ]
    }
   ],
   "source": [
    "# sort name descending by length of name\n",
    "my_sort(names, compare=lambda x, y: len(x) < len(y))\n",
    "print(names)"
   ]
  },
  {
   "cell_type": "code",
   "execution_count": 23,
   "metadata": {},
   "outputs": [
    {
     "name": "stdout",
     "output_type": "stream",
     "text": [
      "['Jennifer Aniston', 'Leonardo DiCaprio', 'Tom Hanks', 'Angelina Jolie', 'Brad Pitt']\n"
     ]
    }
   ],
   "source": [
    "# sort names ascending by last name\n",
    "my_sort(names, compare=lambda x, y: x.split()[-1] > y.split()[-1])\n",
    "print(names)"
   ]
  },
  {
   "cell_type": "code",
   "execution_count": 24,
   "metadata": {},
   "outputs": [
    {
     "name": "stdout",
     "output_type": "stream",
     "text": [
      "['Brad Pitt', 'Angelina Jolie', 'Tom Hanks', 'Leonardo DiCaprio', 'Jennifer Aniston']\n"
     ]
    }
   ],
   "source": [
    "# sort names descending by last name\n",
    "my_sort(names, compare=lambda x, y: x.split()[-1] < y.split()[-1])\n",
    "print(names)"
   ]
  },
  {
   "cell_type": "code",
   "execution_count": 25,
   "metadata": {},
   "outputs": [
    {
     "name": "stdout",
     "output_type": "stream",
     "text": [
      "[-37 -24  30  54  52  27  91  46 -98  25 -27 -22  -8  49  14]\n"
     ]
    }
   ],
   "source": [
    "# filter syntax: filter(function, iterable)\n",
    "import numpy as np\n",
    "numbers = np.random.randint(-99,99,15)\n",
    "print(numbers)"
   ]
  },
  {
   "cell_type": "code",
   "execution_count": 32,
   "metadata": {},
   "outputs": [
    {
     "name": "stdout",
     "output_type": "stream",
     "text": [
      "[-37, -24, -98, -27, -22, -8]\n",
      "-216\n"
     ]
    }
   ],
   "source": [
    "# filter out negative numbers from numbers using list comprehension\n",
    "negatives = [x for x in numbers if x < 0]\n",
    "print(negatives)\n",
    "\n",
    "# calculate sum of negative numbers using list comprehension\n",
    "print(sum(negatives))"
   ]
  },
  {
   "cell_type": "code",
   "execution_count": 33,
   "metadata": {},
   "outputs": [
    {
     "name": "stdout",
     "output_type": "stream",
     "text": [
      "[-37 -24 -98 -27 -22  -8]\n",
      "-216\n"
     ]
    }
   ],
   "source": [
    "# filter out negative numbers from numbers using boolean indexing\n",
    "negatives = numbers[numbers < 0]\n",
    "print(negatives)\n",
    "\n",
    "# calculate sum of negative numbers using boolean indexing\n",
    "print(sum(negatives))"
   ]
  },
  {
   "cell_type": "code",
   "execution_count": 34,
   "metadata": {},
   "outputs": [
    {
     "name": "stdout",
     "output_type": "stream",
     "text": [
      "-37 -24 -98 -27 -22 -8 \n",
      "-216\n"
     ]
    }
   ],
   "source": [
    "# filter out negative numbers from numbers using for loop\n",
    "negative = []\n",
    "s = 0\n",
    "for x in numbers:\n",
    "    if x < 0:\n",
    "        print(x, end=' ')\n",
    "        s += x\n",
    "print()\n",
    "\n",
    "# calculate sum of negative numbers using for loop\n",
    "print(s)"
   ]
  },
  {
   "cell_type": "code",
   "execution_count": 38,
   "metadata": {},
   "outputs": [
    {
     "name": "stdout",
     "output_type": "stream",
     "text": [
      "[-37, -24, -98, -27, -22, -8]\n",
      "-216\n",
      "0\n"
     ]
    }
   ],
   "source": [
    "# filter out negative numbers from numbers using filter function\n",
    "negatives = list(filter(lambda x: x < 0, numbers))\n",
    "print(negatives)\n",
    "\n",
    "# calculate sum of negative numbers using filter function\n",
    "negatives = filter(lambda x: x < 0, numbers)\n",
    "print(sum(negatives))\n",
    "print(sum(negatives)) # 0 cause no more elements in negatives"
   ]
  },
  {
   "cell_type": "code",
   "execution_count": 40,
   "metadata": {},
   "outputs": [
    {
     "name": "stdout",
     "output_type": "stream",
     "text": [
      "dict_items([('iphone 14', 999), ('samsung galaxy 13', 800), ('xiaomi 11 pro', 500), ('iphone 11', 799), ('oppo v5', 450), ('bphone 2', 300), ('vin smart', 200)])\n"
     ]
    }
   ],
   "source": [
    "devices = {'iphone 14': 999, 'samsung galaxy 13': 800, 'xiaomi 11 pro': 500,\n",
    "            'iphone 11': 799, 'oppo v5': 450, 'bphone 2': 300, 'vin smart':200}\n",
    "print(devices.items())"
   ]
  },
  {
   "cell_type": "code",
   "execution_count": 61,
   "metadata": {},
   "outputs": [
    {
     "name": "stdout",
     "output_type": "stream",
     "text": [
      "[('iphone 14', 999), ('iphone 11', 799)]\n"
     ]
    }
   ],
   "source": [
    "# find iphone devices using filter function\n",
    "\n",
    "iphones = list(filter(lambda  x: 'iphone' in x[0], devices.items()))\n",
    "print(iphones)"
   ]
  },
  {
   "cell_type": "code",
   "execution_count": 64,
   "metadata": {},
   "outputs": [
    {
     "name": "stdout",
     "output_type": "stream",
     "text": [
      "iphone 14: $999\n",
      "iphone 11: $799\n",
      "Average price: $899.0\n"
     ]
    }
   ],
   "source": [
    "# calculate average price of iphones\n",
    "count = 0\n",
    "sum_price = 0\n",
    "for phone in iphones:\n",
    "    print(f'{phone[0]}: ${phone[1]}')\n",
    "    count += 1\n",
    "    sum_price += phone[1]\n",
    "print(f'Average price: ${sum_price / count}')"
   ]
  },
  {
   "cell_type": "code",
   "execution_count": 66,
   "metadata": {},
   "outputs": [
    {
     "name": "stdout",
     "output_type": "stream",
     "text": [
      "['Hanks', 'Pitt', 'Jolie', 'DiCaprio', 'Aniston']\n",
      "['Hanks', 'Pitt', 'Jolie', 'DiCaprio', 'Aniston']\n"
     ]
    }
   ],
   "source": [
    "# map function syntax: map(function, iterable)\n",
    "names = ['Tom Hanks', 'Brad Pitt', 'Angelina Jolie', 'Leonardo DiCaprio', 'Jennifer Aniston']\n",
    "\n",
    "# get last names using list conprehension\n",
    "last_names = [n.split()[-1] for n in names]\n",
    "print(last_names)\n",
    "\n",
    "# get last names using map function\n",
    "last_names = list(map(lambda x: x.split()[-1], names))\n",
    "print(last_names)"
   ]
  },
  {
   "cell_type": "code",
   "execution_count": 69,
   "metadata": {},
   "outputs": [
    {
     "name": "stdout",
     "output_type": "stream",
     "text": [
      "Sum of all prices: $4048\n",
      "Sum of all iphone prices: $1798\n",
      "Sum of all iphone prices: $1798\n"
     ]
    }
   ],
   "source": [
    "# printsum of all prices\n",
    "prices = map(lambda x: x[1], devices.items())\n",
    "print(f'Sum of all prices: ${sum(prices)}')\n",
    "\n",
    "# print sum of all iphone prices\n",
    "iphone_prices = map(lambda x: x[1], filter(lambda x: 'iphone' in x[0], devices.items()))\n",
    "print(f'Sum of all iphone prices: ${sum(iphone_prices)}')\n",
    "\n",
    "iphone = filter(lambda x: 'iphone' in x[0], devices.items())\n",
    "iphone_prices = map(lambda x: x[1], iphones)\n",
    "print(f'Sum of all iphone prices: ${sum(iphone_prices)}')"
   ]
  }
 ],
 "metadata": {
  "kernelspec": {
   "display_name": "Python 3.10.8 64-bit",
   "language": "python",
   "name": "python3"
  },
  "language_info": {
   "codemirror_mode": {
    "name": "ipython",
    "version": 3
   },
   "file_extension": ".py",
   "mimetype": "text/x-python",
   "name": "python",
   "nbconvert_exporter": "python",
   "pygments_lexer": "ipython3",
   "version": "3.10.8"
  },
  "orig_nbformat": 4,
  "vscode": {
   "interpreter": {
    "hash": "5cd147847f5c9c61d04539150fa2ef565c6a07a09a1f8c3016ed38fa032adcf0"
   }
  }
 },
 "nbformat": 4,
 "nbformat_minor": 2
}
