{
 "cells": [
  {
   "cell_type": "code",
   "execution_count": 1,
   "metadata": {},
   "outputs": [],
   "source": [
    "# Dictionary: collections of pair (key, value)\n",
    "rooms = {'Peter': 201, 'Joanna': 105, 'Mike': 301, 'John': 202}"
   ]
  },
  {
   "cell_type": "code",
   "execution_count": 2,
   "metadata": {},
   "outputs": [
    {
     "name": "stdout",
     "output_type": "stream",
     "text": [
      "Peter is in room 201\n",
      "Joanna is in room 105\n",
      "Mike is in room 301\n",
      "John is in room 202\n",
      "--------------------\n",
      "Peter is in room 201\n",
      "Joanna is in room 105\n",
      "Mike is in room 301\n",
      "John is in room 202\n"
     ]
    }
   ],
   "source": [
    "# Use for loop to print out the guest $ room number\n",
    "for guest in rooms:\n",
    "    print(f'{guest} is in room {rooms[guest]}')\n",
    "print('-' * 20)\n",
    "for guest, room_no in rooms.items():\n",
    "    print(f'{guest} is in room {room_no}')"
   ]
  },
  {
   "cell_type": "code",
   "execution_count": 7,
   "metadata": {},
   "outputs": [
    {
     "name": "stdout",
     "output_type": "stream",
     "text": [
      "{'Peter': 201, 'Joanna': 105, 'Mike': 301, 'John': 202, 'Duke': 555}\n"
     ]
    }
   ],
   "source": [
    "# A new guest arrive to check-in \n",
    "name = input('Please enter your name: ')\n",
    "room_no = int(input('Please enter room number: '))\n",
    "# Add the guest to the dictionary\n",
    "if name in rooms:\n",
    "    print(f'Guest {name} is already in the hotel')\n",
    "else:\n",
    "    rooms[name] = room_no\n",
    "    print(rooms)"
   ]
  },
  {
   "cell_type": "code",
   "execution_count": 8,
   "metadata": {},
   "outputs": [
    {
     "name": "stdout",
     "output_type": "stream",
     "text": [
      "Current room:  555\n",
      "{'Peter': 201, 'Joanna': 105, 'Mike': 301, 'John': 202, 'Duke': 666}\n"
     ]
    }
   ],
   "source": [
    "# Guest wants to change his/her room\n",
    "name = input('Please enter your name: ')\n",
    "if name not in rooms:\n",
    "    print(f'Guest {name} is not in the hotel')\n",
    "else:\n",
    "    print('Current room: ', rooms[name])\n",
    "    room_no = int(input('Please enter new room number: '))\n",
    "    rooms[name] = room_no\n",
    "    print(rooms)"
   ]
  },
  {
   "cell_type": "code",
   "execution_count": 6,
   "metadata": {},
   "outputs": [
    {
     "name": "stdout",
     "output_type": "stream",
     "text": [
      "Guest Duke has checked out from room 555\n",
      "{'Peter': 201, 'Joanna': 105, 'Mike': 301, 'John': 202}\n"
     ]
    }
   ],
   "source": [
    "# A guest want to check-out\n",
    "name = input('Please enter your name: ')\n",
    "if name not in rooms:\n",
    "    print(f'Guest {name} is not in the hotel')\n",
    "else:\n",
    "    room_no = rooms.pop(name)\n",
    "    print(f'Guest {name} has checked out from room {room_no}')\n",
    "    print(rooms)"
   ]
  },
  {
   "cell_type": "code",
   "execution_count": 9,
   "metadata": {},
   "outputs": [
    {
     "name": "stdout",
     "output_type": "stream",
     "text": [
      "ID: GCH1006, Name: John Lennon, Grade: 40\n"
     ]
    }
   ],
   "source": [
    "students = { 'GCH1001': ['John Lennon', 75], 'GCH1002': ['Paul McCartney', 80], \\\n",
    "             'GCH1003': ['Geore Harrison', 65], 'GCH1004': ['Ringo Starr', 30], \\\n",
    "             'GCH1005': ['Pete Best', 45], 'GCH1006': ['John Lennon', 40]}\n",
    "id = input('Please enter student ID: ')\n",
    "if id in students:\n",
    "    print(f'ID: {id}, Name: {students[id][0]}, Grade: {students[id][1]}')"
   ]
  },
  {
   "cell_type": "code",
   "execution_count": 12,
   "metadata": {},
   "outputs": [
    {
     "name": "stdout",
     "output_type": "stream",
     "text": [
      "{'GCH1001': ['John Lennon', 75], 'GCH1002': ['Paul McCartney', 80], 'GCH1003': ['Geore Harrison', 65], 'GCH1004': ['Ringo Starr', 30], 'GCH1005': ['Pete Best', 45], 'GCH1006': ['John Lennon', 40], 'GCH0907': ['Duke', 0]}\n"
     ]
    }
   ],
   "source": [
    "# Enroll student by enter ID, name (grade = 0)\n",
    "\n",
    "id = input('Please enter class ID: ')\n",
    "\n",
    "\n",
    "if id in students:\n",
    "    print(f'ID {id} is already in the system')\n",
    "else:\n",
    "    name = input('Please enter name: ')\n",
    "    students[id] = [name, 0]\n",
    "    print(students)"
   ]
  },
  {
   "cell_type": "code",
   "execution_count": 14,
   "metadata": {},
   "outputs": [
    {
     "name": "stdout",
     "output_type": "stream",
     "text": [
      "['Duke', 10]\n"
     ]
    }
   ],
   "source": [
    "# Update student grade by enter ID, grade\n",
    "\n",
    "id = input('Please enter student ID: ')\n",
    "\n",
    "if id not in students:\n",
    "    print(f'ID {id} is not in the system')\n",
    "else:\n",
    "    grade = int(input('Please enter student grade: '))\n",
    "    students[id][1] = grade\n",
    "    print(students[id])"
   ]
  },
  {
   "cell_type": "code",
   "execution_count": 11,
   "metadata": {},
   "outputs": [
    {
     "name": "stdout",
     "output_type": "stream",
     "text": [
      "Student Duke has been dropped out\n",
      "{'GCH1001': ['John Lennon', 75], 'GCH1002': ['Paul McCartney', 80], 'GCH1003': ['Geore Harrison', 65], 'GCH1004': ['Ringo Starr', 30], 'GCH1005': ['Pete Best', 45], 'GCH1006': ['John Lennon', 40]}\n"
     ]
    }
   ],
   "source": [
    "# Drop out student by enter ID\n",
    "\n",
    "id = input('Please enter student ID: ')\n",
    "if id not in students:\n",
    "    print(f'ID {id} is not in the system')\n",
    "else:\n",
    "    student_grade = students.pop(id)\n",
    "    print(f'Student {student_grade[0]} has been dropped out')\n",
    "print(students)"
   ]
  },
  {
   "cell_type": "code",
   "execution_count": 34,
   "metadata": {},
   "outputs": [
    {
     "name": "stdout",
     "output_type": "stream",
     "text": [
      "{'John Lennon': 4.0, 'Paul McCartney': 8.0, 'Geore Harrison': 6.5, 'Ringo Starr': 3.0, 'Pete Best': 4.5}\n"
     ]
    }
   ],
   "source": [
    "students2 = { 'John Lennon': 7.5, 'Paul McCartney': 8.0, \\\n",
    "             'Geore Harrison': 6.5, 'Ringo Starr': 3.0, \\\n",
    "             'Pete Best': 4.5, 'John Lennon': 4.0}\n",
    "print(students2)"
   ]
  },
  {
   "cell_type": "code",
   "execution_count": 35,
   "metadata": {},
   "outputs": [
    {
     "name": "stdout",
     "output_type": "stream",
     "text": [
      "{'John Lennon': 4.0, 'Paul McCartney': 8.0, 'Geore Harrison': 6.5, 'Ringo Starr': 3.0, 'Pete Best': 4.5, 'Duke': 9.5}\n"
     ]
    }
   ],
   "source": [
    "# Enter some new items (key, value) to the dictionary\n",
    "\n",
    "name = input('Please enter name: ')\n",
    "\n",
    "if name in students2:\n",
    "    print(f'Student {name} is already in the list')\n",
    "else: \n",
    "    gpa = float(input('Please enter GPA: '))\n",
    "    students2[name] = gpa\n",
    "    print(students2)"
   ]
  },
  {
   "cell_type": "code",
   "execution_count": 45,
   "metadata": {},
   "outputs": [
    {
     "name": "stdout",
     "output_type": "stream",
     "text": [
      "{'John Lennon': 4.0, 'Paul McCartney': 8.0, 'Geore Harrison': 6.5, 'Ringo Starr': 3.0, 'Pete Best': 4.5, 'Duke': 9.5}\n"
     ]
    }
   ],
   "source": [
    "# Print all items of the dictionary\n",
    "print(students2)"
   ]
  },
  {
   "cell_type": "code",
   "execution_count": 57,
   "metadata": {},
   "outputs": [
    {
     "ename": "TypeError",
     "evalue": "'str' object is not callable",
     "output_type": "error",
     "traceback": [
      "\u001b[1;31m---------------------------------------------------------------------------\u001b[0m",
      "\u001b[1;31mTypeError\u001b[0m                                 Traceback (most recent call last)",
      "Cell \u001b[1;32mIn [57], line 3\u001b[0m\n\u001b[0;32m      1\u001b[0m \u001b[39m# Find all student who has max GPA\u001b[39;00m\n\u001b[1;32m----> 3\u001b[0m maxgpa \u001b[39m=\u001b[39m \u001b[39mmax\u001b[39;49m([gpa2 \u001b[39mfor\u001b[39;49;00m st, gpa2 \u001b[39min\u001b[39;49;00m students2\u001b[39m.\u001b[39;49mitems()])\n\u001b[0;32m      4\u001b[0m maxgpa_student \u001b[39m=\u001b[39m [st \u001b[39mfor\u001b[39;00m st, gpa2 \u001b[39min\u001b[39;00m students2\u001b[39m.\u001b[39mitems() \u001b[39mif\u001b[39;00m gpa2 \u001b[39m==\u001b[39m maxgpa]\n\u001b[0;32m      5\u001b[0m \u001b[39mprint\u001b[39m(maxgpa_student)\n",
      "\u001b[1;31mTypeError\u001b[0m: 'str' object is not callable"
     ]
    }
   ],
   "source": [
    "# Find all student who has max GPA\n",
    "\n",
    "maxgpa = max([gpa2 for st, gpa2 in students2.items()])\n",
    "maxgpa_student = [st for st, gpa2 in students2.items() if gpa2 == maxgpa]\n",
    "print(maxgpa_student)\n",
    "\n",
    "# Find all student who has min GPA\n",
    "\n"
   ]
  }
 ],
 "metadata": {
  "kernelspec": {
   "display_name": "Python 3.10.8 64-bit",
   "language": "python",
   "name": "python3"
  },
  "language_info": {
   "codemirror_mode": {
    "name": "ipython",
    "version": 3
   },
   "file_extension": ".py",
   "mimetype": "text/x-python",
   "name": "python",
   "nbconvert_exporter": "python",
   "pygments_lexer": "ipython3",
   "version": "3.10.8"
  },
  "orig_nbformat": 4,
  "vscode": {
   "interpreter": {
    "hash": "5cd147847f5c9c61d04539150fa2ef565c6a07a09a1f8c3016ed38fa032adcf0"
   }
  }
 },
 "nbformat": 4,
 "nbformat_minor": 2
}
