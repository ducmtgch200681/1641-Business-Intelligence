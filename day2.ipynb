{
 "cells": [
  {
   "cell_type": "code",
   "execution_count": null,
   "metadata": {},
   "outputs": [],
   "source": [
    "# decalre an empty list\n",
    "a = []\n",
    "# decalre a list with 5 elements\n",
    "b = [1, 2, 3, 4, 5]\n",
    "c = [1, 'abc', 4.12, True] # items in a list can be of different types\n",
    "\n",
    "print(a, type(a))\n",
    "print(b, type(b))\n",
    "print(c, type(c))\n"
   ]
  },
  {
   "cell_type": "code",
   "execution_count": null,
   "metadata": {},
   "outputs": [],
   "source": [
    "# indexing\n",
    "print(b[0], b[-5])\n",
    "print(b[4], b[-1])"
   ]
  },
  {
   "cell_type": "code",
   "execution_count": null,
   "metadata": {},
   "outputs": [],
   "source": [
    "# Operations\n",
    "a = [1, 2, 3]\n",
    "b = [4, 5, 6]\n",
    "c = a + b\n",
    "print(c)"
   ]
  },
  {
   "cell_type": "code",
   "execution_count": null,
   "metadata": {},
   "outputs": [],
   "source": [
    "c = a * 2\n",
    "print(c)"
   ]
  },
  {
   "cell_type": "code",
   "execution_count": null,
   "metadata": {},
   "outputs": [],
   "source": [
    "c = a * 2\n",
    "print(c)"
   ]
  },
  {
   "cell_type": "code",
   "execution_count": 1,
   "metadata": {},
   "outputs": [
    {
     "name": "stdout",
     "output_type": "stream",
     "text": [
      "John Mary Bob Alice "
     ]
    }
   ],
   "source": [
    "names = ['John', 'Mary', 'Bob', 'Alice']\n",
    "for n in names:         # looop without index\n",
    "    print(n, end=' ')"
   ]
  },
  {
   "cell_type": "code",
   "execution_count": 4,
   "metadata": {},
   "outputs": [
    {
     "name": "stdout",
     "output_type": "stream",
     "text": [
      "1 John\n",
      "2 Mary\n",
      "3 Bob\n",
      "4 Alice\n"
     ]
    }
   ],
   "source": [
    "for i in range(len(names)):     # loop with index\n",
    "    print(i+1, names[i])"
   ]
  },
  {
   "cell_type": "code",
   "execution_count": 14,
   "metadata": {},
   "outputs": [],
   "source": [
    "students = ['John', 'Mary', 'Bob', 'Alice', 'Mike', 'Jane', 'Tom', 'Jack']\n",
    "grades = [3.5, 7.0, 5.5, 8.0, 6.0, 9.0, 7.5, 8.5]"
   ]
  },
  {
   "cell_type": "code",
   "execution_count": 16,
   "metadata": {},
   "outputs": [
    {
     "name": "stdout",
     "output_type": "stream",
     "text": [
      "Alice 8.0\n",
      "Jane 9.0\n",
      "Jack 8.5\n",
      "3\n"
     ]
    }
   ],
   "source": [
    "# Print distinction students (grades >= 8.0), count the number of distinction student\n",
    "\n",
    "count = 0\n",
    "\n",
    "for i in range(len(students)):\n",
    "    if grades[i] >= 8.0:\n",
    "        print(students[i], grades[i])\n",
    "        count+=1\n",
    "    else: continue\n",
    "print(count)\n"
   ]
  },
  {
   "cell_type": "code",
   "execution_count": 36,
   "metadata": {},
   "outputs": [
    {
     "name": "stdout",
     "output_type": "stream",
     "text": [
      "Pen       :       180\n",
      "Pencil    :       312\n",
      "Notebook  :       140\n",
      "Eraser    :       150\n",
      "Stapler   :       270\n",
      "        1052        \n",
      "Product with the highest sales: Pencil: $312\n"
     ]
    }
   ],
   "source": [
    "products = ['Pen', 'Pencil', 'Notebook', 'Eraser', 'Stapler']\n",
    "prices = [1.5, 1.2, 2.0, 0.5, 3.0]\n",
    "solds = [120, 260, 70, 300, 90]\n",
    "\n",
    "# TODO: print each product with its sales (price*sold), finnaly print the total sales\n",
    "\n",
    "total_sales = 0\n",
    "for i in range(len(products)):\n",
    "    sales = prices[i]*solds[i]\n",
    "    print(f'{products[i]:10}:{sales:10.0f}')\n",
    "    total_sales += sales\n",
    "print(f'{total_sales:^20.0f}')\n",
    "\n",
    "# TODO: print the product with the highest sales\n",
    "\n",
    "max_sales = 0\n",
    "max_product = ''\n",
    "for i in range(len(products)):\n",
    "    sales = prices[i]*solds[i]\n",
    "    if sales > max_sales:\n",
    "        max_sales = sales\n",
    "        max_product = products[i]\n",
    "print(f'Product with the highest sales: {max_product}: ${max_sales:.0f}')"
   ]
  },
  {
   "cell_type": "code",
   "execution_count": 50,
   "metadata": {},
   "outputs": [
    {
     "name": "stdout",
     "output_type": "stream",
     "text": [
      "[13, 25, 57, 22, 84, 15, 9, 64, 35, 1]\n",
      "[15, 9, 64, 35, 1]\n",
      "[13, 25, 57, 22]\n",
      "84\n",
      "[22, 84, 15]\n",
      "[22, 84, 15]\n",
      "[13, 57, 84, 9, 35]\n"
     ]
    }
   ],
   "source": [
    "import random as rd\n",
    "# Slicing: create a sub-list from a list\n",
    "numbers = rd.sample(range(1, 100), 10)  # create 10 random numbers from 1 to 99\n",
    "print(numbers)\n",
    "print(numbers[-5:])\n",
    "print(numbers[:4])\n",
    "print(numbers[4])\n",
    "print(numbers[-7:6])\n",
    "print(numbers[3:-4])\n",
    "print(numbers[0:10:2])"
   ]
  },
  {
   "cell_type": "code",
   "execution_count": 61,
   "metadata": {},
   "outputs": [
    {
     "name": "stdout",
     "output_type": "stream",
     "text": [
      "[1, 9, 13, 15, 22, 25, 35, 57, 64, 84]\n",
      "[1, 9, 13, 15, 22, 25, 35, 57, 64, 84]\n",
      "[84, 64, 57, 35, 25, 22, 15, 13, 9, 1]\n"
     ]
    }
   ],
   "source": [
    "print(numbers[::-1])\n",
    "numbers.sort()\n",
    "print(numbers)\n",
    "numbers.sort(reverse=True)\n",
    "print(numbers)"
   ]
  },
  {
   "cell_type": "code",
   "execution_count": 62,
   "metadata": {},
   "outputs": [
    {
     "name": "stdout",
     "output_type": "stream",
     "text": [
      "[84, 64, 57, 35, 25, 22, 15, 13, 9, 1, 100]\n",
      "[84, 64, 57, 35, 25, 200, 22, 15, 13, 9, 1, 100]\n",
      "[64, 57, 35, 25, 200, 22, 15, 13, 9, 1, 100]\n"
     ]
    }
   ],
   "source": [
    "numbers.append(100)     # add 100 to the end of the list\n",
    "print(numbers)\n",
    "numbers.insert(5, 200)      # insert 200 to the list at index 5\n",
    "print(numbers)\n",
    "numbers.remove(84)      # remove 84 from the list\n",
    "print(numbers)"
   ]
  },
  {
   "cell_type": "code",
   "execution_count": 95,
   "metadata": {},
   "outputs": [
    {
     "name": "stdout",
     "output_type": "stream",
     "text": [
      "[64, 57, 35, 25, 200, 22, 15, 13, 9, 1, 100]\n",
      "Length of numbers: 11\n",
      "Minimum value of numbers: 1\n",
      "Maximum value of numbers: 200\n",
      "Sum of numbers: 541\n"
     ]
    }
   ],
   "source": [
    "# Functions for list\n",
    "# len(): return the length of a list\n",
    "# min(): return the minimum value of a list\n",
    "# max(): return the maximum value of a list\n",
    "# sum(): return the sum of all items in a list\n",
    "print(numbers)\n",
    "print('Length of numbers:', len(numbers))\n",
    "print('Minimum value of numbers:', min(numbers))\n",
    "print('Maximum value of numbers:', max(numbers))\n",
    "print('Sum of numbers:', sum(numbers))"
   ]
  },
  {
   "cell_type": "code",
   "execution_count": 63,
   "metadata": {},
   "outputs": [
    {
     "name": "stdout",
     "output_type": "stream",
     "text": [
      "Student with the highest grade:  Jane\n"
     ]
    }
   ],
   "source": [
    "# continue from students and grades TODO: print the student with the highest grade\n",
    "print('Student with the highest grade: ', students[grades.index(max(grades))])"
   ]
  },
  {
   "cell_type": "code",
   "execution_count": 65,
   "metadata": {},
   "outputs": [
    {
     "name": "stdout",
     "output_type": "stream",
     "text": [
      "(1, 2, 3, 4, 5) <class 'tuple'>\n"
     ]
    }
   ],
   "source": [
    "# Tuple: a list that items cannot be changed\n",
    "# declare tuple\n",
    "\n",
    "a = (1, 2, 3, 4, 5)\n",
    "print(a, type(a))\n",
    "a[0] = 10 # error"
   ]
  },
  {
   "cell_type": "code",
   "execution_count": 67,
   "metadata": {},
   "outputs": [
    {
     "name": "stdout",
     "output_type": "stream",
     "text": [
      "[78, 36, 38, 41, 3, 29, 65, 12, 24, 76, 9, 93, 2, 32, 34, 55, 1, 90, 13, 33]\n"
     ]
    }
   ],
   "source": [
    "inters = rd.sample(range(1, 100), 20)\n",
    "print(inters)"
   ]
  },
  {
   "cell_type": "code",
   "execution_count": 71,
   "metadata": {},
   "outputs": [
    {
     "name": "stdout",
     "output_type": "stream",
     "text": [
      "[78, 36, 38, 41, 3, 29, 65, 12, 24, 76]\n",
      "[9, 93, 2, 32, 34, 55, 1, 90, 13, 33]\n"
     ]
    }
   ],
   "source": [
    "# Slice 1st half and 2nd half of the list\n",
    "a = inters[:10]\n",
    "b = inters[-10:]\n",
    "print(a)\n",
    "print(b)"
   ]
  },
  {
   "cell_type": "code",
   "execution_count": 88,
   "metadata": {},
   "outputs": [
    {
     "name": "stdout",
     "output_type": "stream",
     "text": [
      "[16, 42, 56, 78, 69, 88, 91, 55, 18, 19, 90, 46, 58, 7, 4, 75, 74, 61, 10, 54]\n",
      "[78, 69, 88, 91, 55, 18, 19, 90, 46, 58, 7, 4, 75, 74]\n"
     ]
    }
   ],
   "source": [
    "# Slice list to get a sublist that removes n elements at begin and n elements at end of list (n from keyboard)\n",
    "\n",
    "print(inters)\n",
    "\n",
    "n = int(input('Enter n'))\n",
    "if n > 10:\n",
    "    print('Exceed number')\n",
    "\n",
    "print(inters[n:-n])"
   ]
  },
  {
   "cell_type": "code",
   "execution_count": 90,
   "metadata": {},
   "outputs": [
    {
     "name": "stdout",
     "output_type": "stream",
     "text": [
      "[16, 42, 56, 78, 69, 88, 91, 55, 18, 19, 90, 46, 58, 7, 4, 75, 74, 61, 10, 54]\n",
      "[16, 42, 10, 54]\n"
     ]
    }
   ],
   "source": [
    "# with n from keyboard, get n list elements and n last elements, join them to make a new list of 2n elements\n",
    "\n",
    "print(inters)\n",
    "\n",
    "n = int(input('Enter n'))\n",
    "if n > 10:\n",
    "    print('Exceed number')\n",
    "\n",
    "print(inters[:n]+inters[-n:])"
   ]
  },
  {
   "cell_type": "code",
   "execution_count": 94,
   "metadata": {},
   "outputs": [
    {
     "name": "stdout",
     "output_type": "stream",
     "text": [
      "[16, 42, 56, 78, 69, 88, 91, 55, 18, 19, 90, 46, 58, 7, 4, 75, 74, 61, 10, 54]\n",
      "56\n"
     ]
    }
   ],
   "source": [
    "# with n from keyboard, get nth element from list. What happen if n is out of index range?\n",
    "\n",
    "print(inters)\n",
    "\n",
    "n = int(input('Enter n'))\n",
    "if n > 20:\n",
    "    print('Exceed number')\n",
    "\n",
    "print(inters[n-1])"
   ]
  }
 ],
 "metadata": {
  "kernelspec": {
   "display_name": "Python 3.10.8 64-bit",
   "language": "python",
   "name": "python3"
  },
  "language_info": {
   "codemirror_mode": {
    "name": "ipython",
    "version": 3
   },
   "file_extension": ".py",
   "mimetype": "text/x-python",
   "name": "python",
   "nbconvert_exporter": "python",
   "pygments_lexer": "ipython3",
   "version": "3.10.8"
  },
  "orig_nbformat": 4,
  "vscode": {
   "interpreter": {
    "hash": "5cd147847f5c9c61d04539150fa2ef565c6a07a09a1f8c3016ed38fa032adcf0"
   }
  }
 },
 "nbformat": 4,
 "nbformat_minor": 2
}
