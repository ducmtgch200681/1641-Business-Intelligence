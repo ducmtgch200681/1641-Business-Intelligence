{
 "cells": [
  {
   "cell_type": "code",
   "execution_count": 42,
   "metadata": {},
   "outputs": [],
   "source": [
    "# Suppose we have a data of 2d list, each row contains name, phone and salary.\n",
    "employees = [   ['John Smith', '1234567890', 100],\n",
    "                ['Jane Doe', '2345678901', 200],\n",
    "                ['', '3456789012', 500],\n",
    "                ['Melody Pond', 'aa7890123', 3000],\n",
    "                ['Dean Winchester', '56A89A123A', 1000],\n",
    "                ['Jodie Whittakerrrrrrrrrrrrrrrr', '6789012345', 1500]]\n",
    "def print_employees(employees):\n",
    "    for row in employees:\n",
    "        print(f'{row[0]:<25}: {row[1]:10s}, ${row[2]:5}')"
   ]
  },
  {
   "cell_type": "code",
   "execution_count": 46,
   "metadata": {},
   "outputs": [],
   "source": [
    "def do_nothing(employees):\n",
    "    pass\n",
    "def clean_employess(employees, clean_name=do_nothing, clean_phone=do_nothing, clean_salary=do_nothing):\n",
    "    clean_name(employees)\n",
    "    clean_phone(employees)\n",
    "    clean_salary(employees)"
   ]
  },
  {
   "cell_type": "code",
   "execution_count": 45,
   "metadata": {},
   "outputs": [
    {
     "name": "stdout",
     "output_type": "stream",
     "text": [
      "John Smith               : 1234567890, $  100\n",
      "Jane Doe                 : 2345678901, $  200\n",
      "John Doe                 : 3456789012, $  500\n",
      "Melody Pond              : 007890123 , $ 3000\n",
      "Dean Winchester          : 5608901230, $ 1000\n",
      "Jodie Whittaker          : 6789012345, $ 1500\n"
     ]
    }
   ],
   "source": [
    "def empty_2_default(employees):\n",
    "    for row in employees:\n",
    "        if row[0] == '':\n",
    "            row[0] = 'John Doe'\n",
    "\n",
    "    pass\n",
    "\n",
    "clean_employess(employees, clean_name=empty_2_default)\n",
    "print_employees(employees)\n"
   ]
  },
  {
   "cell_type": "code",
   "execution_count": 44,
   "metadata": {},
   "outputs": [
    {
     "name": "stdout",
     "output_type": "stream",
     "text": [
      "John Smith               : 1234567890, $  100\n",
      "Jane Doe                 : 2345678901, $  200\n",
      "                         : 3456789012, $  500\n",
      "Melody Pond              : 007890123 , $ 3000\n",
      "Dean Winchester          : 5608901230, $ 1000\n",
      "Jodie Whittaker          : 6789012345, $ 1500\n"
     ]
    }
   ],
   "source": [
    "def truncate_longname(employees):\n",
    "    for row in employees:\n",
    "        if len(row[0]) > 20:\n",
    "            row[0] = row[0][:15]\n",
    "\n",
    "    pass\n",
    "\n",
    "clean_employess(employees, clean_name=truncate_longname)\n",
    "print_employees(employees)"
   ]
  },
  {
   "cell_type": "code",
   "execution_count": 47,
   "metadata": {},
   "outputs": [
    {
     "name": "stdout",
     "output_type": "stream",
     "text": [
      "John Smith               : 1234567890, $  100\n",
      "Jane Doe                 : 2345678901, $  200\n",
      "John Doe                 : 3456789012, $  500\n",
      "Melody Pond              : 007890123 , $ 3000\n",
      "Dean Winchester          : 5608901230, $ 1000\n",
      "Jodie Whittaker          : 6789012345, $ 1500\n"
     ]
    }
   ],
   "source": [
    "def digit_2zero(employees):\n",
    "    for row in employees:\n",
    "        row[1] = list(map(lambda x: x if x.isdigit() else '0', row[1]))\n",
    "        row[1] = ''.join(row[1])\n",
    "    pass\n",
    "\n",
    "clean_employess(employees, clean_phone=digit_2zero)\n",
    "print_employees(employees)"
   ]
  },
  {
   "cell_type": "code",
   "execution_count": 48,
   "metadata": {},
   "outputs": [
    {
     "name": "stdout",
     "output_type": "stream",
     "text": [
      "John Smith               : 1234567890, $  200\n",
      "Jane Doe                 : 2345678901, $  200\n",
      "John Doe                 : 3456789012, $  500\n",
      "Melody Pond              : 007890123 , $ 2000\n",
      "Dean Winchester          : 5608901230, $ 1000\n",
      "Jodie Whittaker          : 6789012345, $ 1500\n"
     ]
    }
   ],
   "source": [
    "def fix_salary(employees):\n",
    "    for row in employees:\n",
    "        if row[2] < 200:\n",
    "            row[2] = 200\n",
    "        if row[2] > 2000:\n",
    "            row[2] = 2000\n",
    "\n",
    "clean_employess(employees, clean_phone=fix_salary)\n",
    "print_employees(employees)"
   ]
  },
  {
   "cell_type": "code",
   "execution_count": null,
   "metadata": {},
   "outputs": [],
   "source": [
    "def nondigit_2previous(employees):\n",
    "    for i in range(1, len(phone)):\n",
    "        phone[i] = phone[i] if phone[i].isdigit() else phone[i-1]\n",
    "    row[1] = ''.join(phone)\n",
    "    pass\n",
    "\n",
    "clean_employess(employees, clean_phone=digit_2zero)\n",
    "print_employees(employees)"
   ]
  },
  {
   "cell_type": "code",
   "execution_count": null,
   "metadata": {},
   "outputs": [],
   "source": [
    "sum_even = sum([x for x in numbers if x % 2 == 0])\n",
    "print(sum_even)"
   ]
  },
  {
   "cell_type": "code",
   "execution_count": null,
   "metadata": {},
   "outputs": [],
   "source": [
    "def my_filter(f,items):\n",
    "    for i in items:\n",
    "        if f(i):\n",
    "            yeild i"
   ]
  },
  {
   "cell_type": "code",
   "execution_count": null,
   "metadata": {},
   "outputs": [],
   "source": [
    "sum_even = sum(my_filter(lambda x: x % 2 == 0, numbers))\n",
    "print(sum_even)"
   ]
  },
  {
   "cell_type": "code",
   "execution_count": 49,
   "metadata": {},
   "outputs": [],
   "source": [
    "def rec_fibonacci(n):\n",
    "    if n < 2:\n",
    "        return n\n",
    "    return rec_fibonacci(n - 1) + rec_fibonacci(n - 2)"
   ]
  },
  {
   "cell_type": "code",
   "execution_count": 50,
   "metadata": {},
   "outputs": [
    {
     "name": "stdout",
     "output_type": "stream",
     "text": [
      "12586269025\n"
     ]
    }
   ],
   "source": [
    "print(rec_fibonacci(50))"
   ]
  },
  {
   "cell_type": "code",
   "execution_count": 51,
   "metadata": {},
   "outputs": [],
   "source": [
    "def fibo_gen():\n",
    "    a, b = 0, 1\n",
    "    while True:\n",
    "        yield a\n",
    "        a, b = b, a + b"
   ]
  },
  {
   "cell_type": "code",
   "execution_count": 52,
   "metadata": {},
   "outputs": [],
   "source": [
    "def fibonacci(n):\n",
    "    i = 0\n",
    "    while i in fibo_gen():\n",
    "        if i == n:\n",
    "            return f\n",
    "        i += 1"
   ]
  },
  {
   "cell_type": "code",
   "execution_count": null,
   "metadata": {},
   "outputs": [],
   "source": [
    "print(fibonacci(50D))"
   ]
  }
 ],
 "metadata": {
  "kernelspec": {
   "display_name": "Python 3.10.8 64-bit",
   "language": "python",
   "name": "python3"
  },
  "language_info": {
   "codemirror_mode": {
    "name": "ipython",
    "version": 3
   },
   "file_extension": ".py",
   "mimetype": "text/x-python",
   "name": "python",
   "nbconvert_exporter": "python",
   "pygments_lexer": "ipython3",
   "version": "3.10.8"
  },
  "orig_nbformat": 4,
  "vscode": {
   "interpreter": {
    "hash": "5cd147847f5c9c61d04539150fa2ef565c6a07a09a1f8c3016ed38fa032adcf0"
   }
  }
 },
 "nbformat": 4,
 "nbformat_minor": 2
}
