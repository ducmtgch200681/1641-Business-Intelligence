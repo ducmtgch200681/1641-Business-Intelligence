{
 "cells": [
  {
   "cell_type": "code",
   "execution_count": 37,
   "metadata": {},
   "outputs": [],
   "source": [
    "def my_max(a, b):\n",
    "    if a > b:\n",
    "        return a\n",
    "    return b"
   ]
  },
  {
   "cell_type": "code",
   "execution_count": null,
   "metadata": {},
   "outputs": [],
   "source": [
    "print(my_max(5, 7)) # work with integers\n",
    "print(my_max('a', 'b')) # work with strings\n",
    "print(my_max(5.0, 4.2)) # work with floats"
   ]
  },
  {
   "cell_type": "code",
   "execution_count": null,
   "metadata": {},
   "outputs": [],
   "source": [
    "print(my_max(5.0, 5)) "
   ]
  },
  {
   "cell_type": "code",
   "execution_count": 34,
   "metadata": {},
   "outputs": [],
   "source": [
    "# pass by value vs pass by reference\n",
    "def double(x):\n",
    "    x = x * 2\n",
    "    print(x)"
   ]
  },
  {
   "cell_type": "code",
   "execution_count": 38,
   "metadata": {},
   "outputs": [
    {
     "name": "stdout",
     "output_type": "stream",
     "text": [
      "12\n",
      "6\n"
     ]
    }
   ],
   "source": [
    "x = 6\n",
    "double(x) # => 12\n",
    "print(x)  # => 6"
   ]
  },
  {
   "cell_type": "code",
   "execution_count": 35,
   "metadata": {},
   "outputs": [
    {
     "name": "stdout",
     "output_type": "stream",
     "text": [
      "[2 4 6]\n",
      "[1 2 3]\n"
     ]
    }
   ],
   "source": [
    "import numpy as np\n",
    "x = np.array([1, 2, 3])\n",
    "double(x) # => [2 4 6]\n",
    "print(x)  # => [1 2 3]"
   ]
  },
  {
   "cell_type": "code",
   "execution_count": 39,
   "metadata": {},
   "outputs": [],
   "source": [
    "def double_list(x):\n",
    "    for i in range(len(x)):\n",
    "        x[i] = x[i] * 2\n",
    "    print(x)"
   ]
  },
  {
   "cell_type": "code",
   "execution_count": 40,
   "metadata": {},
   "outputs": [
    {
     "name": "stdout",
     "output_type": "stream",
     "text": [
      "[2 4 6]\n",
      "[2 4 6]\n"
     ]
    }
   ],
   "source": [
    "x = np.array([1, 2, 3])\n",
    "double_list(x) # => [2 4 6]\n",
    "print(x)  # => [2 4 6]"
   ]
  },
  {
   "cell_type": "code",
   "execution_count": null,
   "metadata": {},
   "outputs": [],
   "source": [
    "print(4, 5, 6, sep='*')"
   ]
  },
  {
   "cell_type": "code",
   "execution_count": 32,
   "metadata": {},
   "outputs": [],
   "source": [
    "def my_sort(a, asc=True):\n",
    "    n = len(a)\n",
    "    if asc:\n",
    "        for i in range(n - 1):\n",
    "            for j in range(i + 1, n):\n",
    "                if a[j] < a[i]:\n",
    "                    a[i], a[j] = a[j], a[i]\n",
    "    else:\n",
    "        for i in range(n - 1):\n",
    "            for j in range(i + 1, n):\n",
    "                if a[j] > a[i]:\n",
    "                    a[i], a[j] = a[j], a[i]"
   ]
  },
  {
   "cell_type": "code",
   "execution_count": 41,
   "metadata": {},
   "outputs": [
    {
     "name": "stdout",
     "output_type": "stream",
     "text": [
      "[1, 79, 91, 76, 40, 72, 13, 61, 95, 17]\n",
      "[1, 13, 17, 40, 61, 72, 76, 79, 91, 95]\n",
      "[95, 91, 79, 76, 72, 61, 40, 17, 13, 1]\n"
     ]
    }
   ],
   "source": [
    "numbers = [np.random.randint(0, 100) for i in range(10)]\n",
    "print(numbers)\n",
    "my_sort(numbers)\n",
    "print(numbers)\n",
    "my_sort(numbers, asc=False)\n",
    "print(numbers)"
   ]
  },
  {
   "cell_type": "code",
   "execution_count": null,
   "metadata": {},
   "outputs": [],
   "source": [
    "\n",
    "def demo_keyword(x, n=10, s='hello'):\n",
    "    print('x =', x)\n",
    "    print('n =', n)\n",
    "    print('s =', s)"
   ]
  },
  {
   "cell_type": "code",
   "execution_count": null,
   "metadata": {},
   "outputs": [],
   "source": [
    "demo_keyword(5)"
   ]
  },
  {
   "cell_type": "code",
   "execution_count": null,
   "metadata": {},
   "outputs": [],
   "source": [
    "\n",
    "demo_keyword(5, n='hello')"
   ]
  },
  {
   "cell_type": "code",
   "execution_count": null,
   "metadata": {},
   "outputs": [],
   "source": [
    "demo_keyword(5, n='hello', s=10)"
   ]
  },
  {
   "cell_type": "code",
   "execution_count": null,
   "metadata": {},
   "outputs": [],
   "source": [
    "\n",
    "demo_keyword('hi', s='hello python', n=100)"
   ]
  },
  {
   "cell_type": "code",
   "execution_count": null,
   "metadata": {},
   "outputs": [],
   "source": [
    "print(3, 4, 5)\n",
    "print()\n",
    "print(10)"
   ]
  },
  {
   "cell_type": "code",
   "execution_count": null,
   "metadata": {},
   "outputs": [],
   "source": [
    "def my_sum(*items):\n",
    "    print(type(items))\n",
    "    s = 0\n",
    "    for i in items:\n",
    "        s += i\n",
    "    return s"
   ]
  },
  {
   "cell_type": "code",
   "execution_count": null,
   "metadata": {},
   "outputs": [],
   "source": [
    "\n",
    "print(my_sum(1, 2, 3, 4.7, 5))"
   ]
  },
  {
   "cell_type": "code",
   "execution_count": null,
   "metadata": {},
   "outputs": [],
   "source": [
    "def min_max(a, b):\n",
    "    if a > b:\n",
    "        return b, a\n",
    "    return a, b"
   ]
  },
  {
   "cell_type": "code",
   "execution_count": null,
   "metadata": {},
   "outputs": [],
   "source": [
    "mi, ma = min_max(50, 7)\n",
    "print(mi, ma)"
   ]
  },
  {
   "cell_type": "code",
   "execution_count": null,
   "metadata": {},
   "outputs": [],
   "source": [
    "_, ma = min_max(50, 7)\n",
    "print(ma)"
   ]
  },
  {
   "cell_type": "code",
   "execution_count": null,
   "metadata": {},
   "outputs": [],
   "source": [
    "m = min_max(50, 7)\n",
    "print(m)"
   ]
  },
  {
   "cell_type": "code",
   "execution_count": 7,
   "metadata": {},
   "outputs": [
    {
     "name": "stdout",
     "output_type": "stream",
     "text": [
      "True\n"
     ]
    },
    {
     "data": {
      "text/plain": [
       "True"
      ]
     },
     "execution_count": 7,
     "metadata": {},
     "output_type": "execute_result"
    }
   ],
   "source": [
    "# Search for x in items, return the True if found, Flase otherwise. If abs = True, search for |x|\n",
    "def search(items, x, abs=False):\n",
    "    if x in items:\n",
    "        print('True')\n",
    "    elif abs == True:\n",
    "        for i in items:\n",
    "            if x == i or x == -i:\n",
    "                return True\n",
    "    else:\n",
    "        print('False')\n",
    "    \n",
    "search([0, 1, 2, 3, 4, 5], 5)\n",
    "search([0, 1, 2, 3, 4, -5], 5, abs =True)"
   ]
  },
  {
   "cell_type": "code",
   "execution_count": 10,
   "metadata": {},
   "outputs": [
    {
     "name": "stdout",
     "output_type": "stream",
     "text": [
      "True\n",
      "True\n"
     ]
    }
   ],
   "source": [
    "def search2(items, x, abs=False):\n",
    "    if abs == False:\n",
    "        return x in items\n",
    "    else:\n",
    "        return x in items or -x in items\n",
    "\n",
    "print(search2([0, 1, 2, 3, 4, 5], 5))\n",
    "print(search2([0, 1, 2, 3, 4, -5], 5, abs =True))"
   ]
  },
  {
   "cell_type": "code",
   "execution_count": 43,
   "metadata": {},
   "outputs": [],
   "source": [
    "def my_max(items, key=None):\n",
    "    if key is None:\n",
    "        m = items[0]\n",
    "        for i in items:\n",
    "            if i > m:\n",
    "                m = 1\n",
    "        return m\n",
    "    else:\n",
    "        m = items[0]\n",
    "        for i in items:\n",
    "            if key(i) > key(m):\n",
    "                m = i\n",
    "        return m"
   ]
  },
  {
   "cell_type": "code",
   "execution_count": 44,
   "metadata": {},
   "outputs": [
    {
     "ename": "TypeError",
     "evalue": "'>' not supported between instances of 'str' and 'int'",
     "output_type": "error",
     "traceback": [
      "\u001b[1;31m---------------------------------------------------------------------------\u001b[0m",
      "\u001b[1;31mTypeError\u001b[0m                                 Traceback (most recent call last)",
      "Cell \u001b[1;32mIn [44], line 2\u001b[0m\n\u001b[0;32m      1\u001b[0m names \u001b[39m=\u001b[39m [\u001b[39m'\u001b[39m\u001b[39mJohn Lennon\u001b[39m\u001b[39m'\u001b[39m, \u001b[39m'\u001b[39m\u001b[39mMary Antoanette\u001b[39m\u001b[39m'\u001b[39m, \u001b[39m'\u001b[39m\u001b[39mPeter Dinglas\u001b[39m\u001b[39m'\u001b[39m, \u001b[39m'\u001b[39m\u001b[39mAlice Cooper\u001b[39m\u001b[39m'\u001b[39m]\n\u001b[1;32m----> 2\u001b[0m m \u001b[39m=\u001b[39m my_max(names)\n\u001b[0;32m      3\u001b[0m \u001b[39mprint\u001b[39m(m)\n\u001b[0;32m      4\u001b[0m m \u001b[39m=\u001b[39m my_max(names, key\u001b[39m=\u001b[39m\u001b[39mlen\u001b[39m)\n",
      "Cell \u001b[1;32mIn [43], line 5\u001b[0m, in \u001b[0;36mmy_max\u001b[1;34m(items, key)\u001b[0m\n\u001b[0;32m      3\u001b[0m m \u001b[39m=\u001b[39m items[\u001b[39m0\u001b[39m]\n\u001b[0;32m      4\u001b[0m \u001b[39mfor\u001b[39;00m i \u001b[39min\u001b[39;00m items:\n\u001b[1;32m----> 5\u001b[0m     \u001b[39mif\u001b[39;00m i \u001b[39m>\u001b[39;49m m:\n\u001b[0;32m      6\u001b[0m         m \u001b[39m=\u001b[39m \u001b[39m1\u001b[39m\n\u001b[0;32m      7\u001b[0m \u001b[39mreturn\u001b[39;00m m\n",
      "\u001b[1;31mTypeError\u001b[0m: '>' not supported between instances of 'str' and 'int'"
     ]
    }
   ],
   "source": [
    "names = ['John Lennon', 'Mary Antoanette', 'Peter Dinglas', 'Alice Cooper']\n",
    "m = my_max(names)\n",
    "print(m)\n",
    "m = my_max(names, key=len)\n",
    "print(m)"
   ]
  },
  {
   "cell_type": "code",
   "execution_count": 25,
   "metadata": {},
   "outputs": [
    {
     "name": "stdout",
     "output_type": "stream",
     "text": [
      "John Lennon\n"
     ]
    }
   ],
   "source": [
    "# Find name that has max last name\n",
    "def last_name(name):\n",
    "    return name.split()[-1]\n",
    "\n",
    "m = my_max(names, key=last_name)\n",
    "print(m)"
   ]
  },
  {
   "cell_type": "code",
   "execution_count": 29,
   "metadata": {},
   "outputs": [
    {
     "name": "stdout",
     "output_type": "stream",
     "text": [
      "Mary Antoanette\n"
     ]
    }
   ],
   "source": [
    "# Find name that has max number of vowels\n",
    "def vowel_count(name):\n",
    "    vowels = 'aeiou'\n",
    "    count = 0\n",
    "    for c in name.lower():\n",
    "        if c in vowels:\n",
    "            count += 1\n",
    "    return count\n",
    "\n",
    "m = my_max(names, key=vowel_count)\n",
    "print(m) "
   ]
  },
  {
   "cell_type": "code",
   "execution_count": 45,
   "metadata": {},
   "outputs": [
    {
     "name": "stdout",
     "output_type": "stream",
     "text": [
      "[95, 91, 79, 76, 72, 61, 40, 17, 13, 1]\n",
      "95\n"
     ]
    }
   ],
   "source": [
    "print(numbers)\n",
    "print(my_max(numbers))"
   ]
  },
  {
   "cell_type": "code",
   "execution_count": 46,
   "metadata": {},
   "outputs": [
    {
     "name": "stdout",
     "output_type": "stream",
     "text": [
      "79\n"
     ]
    }
   ],
   "source": [
    "# Find number that has max last digit\n",
    "def digit(n):\n",
    "    return n%10\n",
    "\n",
    "print(my_max(numbers, key=digit))"
   ]
  },
  {
   "cell_type": "code",
   "execution_count": 54,
   "metadata": {},
   "outputs": [
    {
     "name": "stdout",
     "output_type": "stream",
     "text": [
      "73\n",
      "[53, -75, -85, 20, -28, 73, -34, -56, 62, -40]\n",
      "-85\n"
     ]
    }
   ],
   "source": [
    "# Find number that has max sum digits\n",
    "def sum_digit(n):\n",
    "    return n%10 + n//10 \n",
    "\n",
    "print(my_max(numbers, key=sum_digit))\n",
    "\n",
    "# Find numbet that has max absolute value\n",
    "numbers = [np.random.randint(-100,100) for i in range(10)]\n",
    "print(numbers)\n",
    "def absolute(n):\n",
    "    if n > 0:\n",
    "        return n\n",
    "    else:\n",
    "        return n * -1\n",
    "\n",
    "print(my_max(numbers, key=absolute))"
   ]
  }
 ],
 "metadata": {
  "kernelspec": {
   "display_name": "Python 3.10.8 64-bit",
   "language": "python",
   "name": "python3"
  },
  "language_info": {
   "codemirror_mode": {
    "name": "ipython",
    "version": 3
   },
   "file_extension": ".py",
   "mimetype": "text/x-python",
   "name": "python",
   "nbconvert_exporter": "python",
   "pygments_lexer": "ipython3",
   "version": "3.10.8"
  },
  "orig_nbformat": 4,
  "vscode": {
   "interpreter": {
    "hash": "5cd147847f5c9c61d04539150fa2ef565c6a07a09a1f8c3016ed38fa032adcf0"
   }
  }
 },
 "nbformat": 4,
 "nbformat_minor": 2
}
