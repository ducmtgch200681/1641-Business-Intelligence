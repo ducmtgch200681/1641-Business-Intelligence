{
 "cells": [
  {
   "cell_type": "code",
   "execution_count": 1,
   "metadata": {},
   "outputs": [
    {
     "name": "stdout",
     "output_type": "stream",
     "text": [
      "1 2 3 \n",
      "4 5 6 \n",
      "7 8 9 \n"
     ]
    }
   ],
   "source": [
    "# 2d list: list of lists\n",
    "a = [[1, 2, 3], [4, 5, 6], [7, 8, 9]] # 3x3 matrix\n",
    "for row in a:\n",
    "    for col in row:\n",
    "        print(col, end=' ')\n",
    "    print()"
   ]
  },
  {
   "cell_type": "code",
   "execution_count": 2,
   "metadata": {},
   "outputs": [
    {
     "name": "stdout",
     "output_type": "stream",
     "text": [
      "[4, 5, 6]\n"
     ]
    }
   ],
   "source": [
    "# print 2nd row\n",
    "print(a[1])"
   ]
  },
  {
   "cell_type": "code",
   "execution_count": 3,
   "metadata": {},
   "outputs": [
    {
     "name": "stdout",
     "output_type": "stream",
     "text": [
      "6\n"
     ]
    }
   ],
   "source": [
    "# get number 6\n",
    "print(a[1][2])"
   ]
  },
  {
   "cell_type": "code",
   "execution_count": 4,
   "metadata": {},
   "outputs": [
    {
     "name": "stdout",
     "output_type": "stream",
     "text": [
      "[[4, 5, 6], [7, 8, 9]]\n"
     ]
    }
   ],
   "source": [
    "# slicing: same as 1d list\n",
    "print(a[1:3])"
   ]
  },
  {
   "cell_type": "code",
   "execution_count": 6,
   "metadata": {},
   "outputs": [
    {
     "name": "stdout",
     "output_type": "stream",
     "text": [
      "[4, 5, 6]\n",
      "[[4, 5, 6]]\n"
     ]
    }
   ],
   "source": [
    "print(a[1])\n",
    "print(a[1:2])"
   ]
  },
  {
   "cell_type": "code",
   "execution_count": 16,
   "metadata": {},
   "outputs": [],
   "source": [
    "student_grades = [['John', 7.5], ['Mary', 9.0], ['Bob', 6.0], ['Alice', 8.0], ['Mike', 4.0],\n",
    "                    ['Anna', 10.0], ['Tom', 5.0], ['Peter', 3.5], ['Jane', 9.5], ['Jack', 6.5]]"
   ]
  },
  {
   "cell_type": "code",
   "execution_count": 20,
   "metadata": {},
   "outputs": [
    {
     "name": "stdout",
     "output_type": "stream",
     "text": [
      "Mary      :         9\n",
      "Alice     :         8\n",
      "Anna      :        10\n",
      "Jane      :        10\n"
     ]
    }
   ],
   "source": [
    "# Print distinction students who have the grade >= 8.0\n",
    "\n",
    "for stu in student_grades:\n",
    "    if stu[1] >= 8.0:\n",
    "        print(f'{stu[0]:10s}:{stu[1]:10.0f}')"
   ]
  },
  {
   "cell_type": "code",
   "execution_count": 21,
   "metadata": {},
   "outputs": [
    {
     "name": "stdout",
     "output_type": "stream",
     "text": [
      "Number of passed students:  9\n"
     ]
    }
   ],
   "source": [
    "# Count how many passed student (grade >= 4.0)\n",
    "\n",
    "count = 0\n",
    "for stu in student_grades:\n",
    "    if stu[1] >= 4.0:\n",
    "        count += 1\n",
    "print('Number of passed students: ', count)"
   ]
  },
  {
   "cell_type": "code",
   "execution_count": null,
   "metadata": {},
   "outputs": [],
   "source": [
    "# length of rows can be different\n",
    "a = [[],\n",
    "    [1],\n",
    "    [2, 3],\n",
    "    [4, 5, 6]]\n",
    "print(a, len(a))\n",
    "print(a[3][2])\n",
    "print(a[2][2]) # error: IndexError: list index out of range "
   ]
  },
  {
   "cell_type": "code",
   "execution_count": 25,
   "metadata": {},
   "outputs": [
    {
     "name": "stdout",
     "output_type": "stream",
     "text": [
      "[[92, 31, 38, 10, 42], [10, 33, 54, 59, 69], [30, 6, 23, 96, 56], [32, 52, 10, 72, 2], [41, 59, 3, 84, 22]]\n"
     ]
    }
   ],
   "source": [
    "# Exercise\n",
    "# Create 2d list 5x5 of random interger\n",
    "# random\n",
    "import random as rd\n",
    "a = []\n",
    "for i in range(5):\n",
    "    a.append(rd.sample(range(0, 99), 5))\n",
    "print(a)\n"
   ]
  },
  {
   "cell_type": "code",
   "execution_count": 28,
   "metadata": {},
   "outputs": [
    {
     "name": "stdout",
     "output_type": "stream",
     "text": [
      "[10, 33, 54, 59, 69] [30, 6, 23, 96, 56] [32, 52, 10, 72, 2]\n",
      "[10, 33, 54, 59, 69] [30, 6, 23, 96, 56] [32, 52, 10, 72, 2]\n",
      "[[10, 33, 54, 59, 69], [30, 6, 23, 96, 56], [32, 52, 10, 72, 2]]\n",
      "[[10, 33, 54, 59, 69], [30, 6, 23, 96, 56], [32, 52, 10, 72, 2]]\n"
     ]
    }
   ],
   "source": [
    "# Get 3 middle rows in as many ways as you can\n",
    "\n",
    "print(a[1], a[2], a[3])\n",
    "print(a[-4], a[-3], a[-2])\n",
    "print(a[1:4])\n",
    "print(a[-4:-1])"
   ]
  },
  {
   "cell_type": "code",
   "execution_count": 31,
   "metadata": {},
   "outputs": [
    {
     "name": "stdout",
     "output_type": "stream",
     "text": [
      "[32, 52, 10, 72, 2] [41, 59, 3, 84, 22]\n",
      "[32, 52, 10, 72, 2] [41, 59, 3, 84, 22]\n",
      "[[32, 52, 10, 72, 2], [41, 59, 3, 84, 22]]\n",
      "[[32, 52, 10, 72, 2], [41, 59, 3, 84, 22]]\n"
     ]
    }
   ],
   "source": [
    "# Get 2 last row in as many as you can\n",
    "\n",
    "print(a[3], a[4])\n",
    "print(a[-2], a[-1])\n",
    "print(a[-2:])\n",
    "print(a[3:])"
   ]
  },
  {
   "cell_type": "code",
   "execution_count": 37,
   "metadata": {},
   "outputs": [
    {
     "name": "stdout",
     "output_type": "stream",
     "text": [
      "Max =  69\n",
      "Min =  10\n"
     ]
    }
   ],
   "source": [
    "# Enter n from keyboard, get max, min of nth row and print them (hint: using function max, min)\n",
    "\n",
    "n = int(input('Enter n: '))\n",
    "print('Max = ', max(a[n-1]))\n",
    "print('Min = ', min(a[n-1]))"
   ]
  },
  {
   "cell_type": "code",
   "execution_count": 38,
   "metadata": {},
   "outputs": [
    {
     "name": "stdout",
     "output_type": "stream",
     "text": [
      "Sum =  225\n"
     ]
    }
   ],
   "source": [
    "# Enter n from keyboard, get sum of nth row and print it (hint: using function sum)\n",
    "\n",
    "n = int(input('Enter n: '))\n",
    "print('Sum = ', sum(a[n-1]))"
   ]
  },
  {
   "cell_type": "code",
   "execution_count": 44,
   "metadata": {},
   "outputs": [
    {
     "name": "stdout",
     "output_type": "stream",
     "text": [
      "Sorted =  [10, 33, 54, 59, 69]\n",
      "Sorted des =  [69, 59, 54, 33, 10]\n"
     ]
    }
   ],
   "source": [
    "# Enter n from keyboard, sort nth row and print it (hint: using function sorted)\n",
    "\n",
    "n = int(input('Enter n: '))\n",
    "print('Sorted = ', sorted(a[n-1]))\n",
    "a[n-1].sort(reverse = True)\n",
    "print('Sorted des = ', a[n-1])"
   ]
  },
  {
   "cell_type": "code",
   "execution_count": 46,
   "metadata": {},
   "outputs": [
    {
     "name": "stdout",
     "output_type": "stream",
     "text": [
      "[1, 2, 3]\n",
      "[1 2 3]\n",
      "[1, 2, 3] <class 'list'>\n",
      "[1 2 3] <class 'numpy.ndarray'>\n"
     ]
    }
   ],
   "source": [
    "import numpy as np\n",
    "# create array from list\n",
    "a = [1, 2, 3]\n",
    "b = np.array(a)\n",
    "print(a, b, sep='\\n')\n",
    "print(a, type(a))\n",
    "print(b, type(b))"
   ]
  },
  {
   "cell_type": "code",
   "execution_count": 47,
   "metadata": {},
   "outputs": [
    {
     "name": "stdout",
     "output_type": "stream",
     "text": [
      "[0 1 2 3 4 5 6 7 8 9]\n",
      "[1 3 5 7 9]\n"
     ]
    }
   ],
   "source": [
    "# Create a range from arange function (similar range function)\n",
    "a = np.arange(10)\n",
    "print(a)\n",
    "a = np.arange(1, 10, 2)\n",
    "print(a)"
   ]
  },
  {
   "cell_type": "code",
   "execution_count": 48,
   "metadata": {},
   "outputs": [
    {
     "name": "stdout",
     "output_type": "stream",
     "text": [
      "[0.    1.125 2.25  3.375 4.5   5.625 6.75  7.875 9.   ]\n"
     ]
    }
   ],
   "source": [
    "# Create array from linspace(start, end, n) function\n",
    "a = np.linspace(0, 9, 9)\n",
    "print(a)"
   ]
  },
  {
   "cell_type": "code",
   "execution_count": 50,
   "metadata": {},
   "outputs": [
    {
     "name": "stdout",
     "output_type": "stream",
     "text": [
      "[   1    2    4    8   16   32   64  128  256  512 1024]\n"
     ]
    }
   ],
   "source": [
    "# Create array from langspace(start, end, n) function\n",
    "a = np.logspace(0, 10, 11, base=2, dtype=int)\n",
    "print(a)"
   ]
  },
  {
   "cell_type": "code",
   "execution_count": 60,
   "metadata": {},
   "outputs": [
    {
     "name": "stdout",
     "output_type": "stream",
     "text": [
      "[ 50  55  60  65  70  75  80  85  90  95 100]\n",
      "[2.         2.21428571 2.42857143 2.64285714 2.85714286 3.07142857\n",
      " 3.28571429 3.5        3.71428571 3.92857143 4.14285714 4.35714286\n",
      " 4.57142857 4.78571429 5.        ]\n",
      "[    3     9    27    81   243   729  2187  6561 19683 59049]\n"
     ]
    }
   ],
   "source": [
    "# Create array from 50 -100, step 5\n",
    "a = np.arange(50, 101, 5)\n",
    "print(a)\n",
    "\n",
    "# Create 15 numbers from 2 to 5\n",
    "b = np.linspace(2, 5, 15)\n",
    "print(b)\n",
    "\n",
    "# Create these numbers: 3, 9, 27, 81, 243, 729, 2187, 6561, 19683, 59049\n",
    "c = np.logspace(1, 10, 10, base=3, dtype=int)\n",
    "print(c)"
   ]
  },
  {
   "cell_type": "code",
   "execution_count": 61,
   "metadata": {},
   "outputs": [
    {
     "name": "stdout",
     "output_type": "stream",
     "text": [
      "[0. 0. 0. 0. 0. 0. 0. 0. 0. 0.]\n",
      "[[1. 1. 1.]\n",
      " [1. 1. 1.]\n",
      " [1. 1. 1.]]\n"
     ]
    }
   ],
   "source": [
    "# Create arrays of zeros, one \n",
    "zeros = np.zeros(10)\n",
    "print(zeros)\n",
    "ones = np.ones((3,3))\n",
    "print(ones)"
   ]
  },
  {
   "cell_type": "code",
   "execution_count": 66,
   "metadata": {},
   "outputs": [
    {
     "name": "stdout",
     "output_type": "stream",
     "text": [
      "[31 35 28 54 74]\n",
      "[41 45 38 64 84]\n",
      "[21 25 18 44 64]\n",
      "[310 350 280 540 740]\n",
      "[3.1 3.5 2.8 5.4 7.4]\n",
      "[1 5 8 4 4]\n",
      "[3 3 2 5 7]\n",
      "[ 961 1225  784 2916 5476]\n"
     ]
    }
   ],
   "source": [
    "# Array operator: +, -, *, /, %, //, ** with number\n",
    "a = np.random.randint(0, 100, 5)\n",
    "print(a)\n",
    "print(a + 10)\n",
    "print(a - 10)\n",
    "print(a * 10)\n",
    "print(a / 10)\n",
    "print(a % 10)\n",
    "print(a // 10)\n",
    "print(a ** 2)\n"
   ]
  },
  {
   "cell_type": "code",
   "execution_count": 68,
   "metadata": {},
   "outputs": [
    {
     "name": "stdout",
     "output_type": "stream",
     "text": [
      "[ 3  7 11]\n",
      "[-1 -1 -1]\n",
      "[ 2 12 30]\n",
      "[0.5        0.75       0.83333333]\n",
      "[1 3 5]\n",
      "[0 0 0]\n",
      "[    1    81 15625]\n"
     ]
    }
   ],
   "source": [
    "# Array operator: +, -, *, /, %, //, ** with array (same size)\n",
    "a = np.array([1, 3, 5])\n",
    "b = np.array([2, 4, 6])\n",
    "\n",
    "print(a + b)\n",
    "print(a - b)\n",
    "print(a * b)\n",
    "print(a / b)\n",
    "print(a % b)\n",
    "print(a // b)\n",
    "print(a ** b)\n"
   ]
  },
  {
   "cell_type": "code",
   "execution_count": 70,
   "metadata": {},
   "outputs": [
    {
     "name": "stdout",
     "output_type": "stream",
     "text": [
      "[80 40 79 44 17 55 51  9 33  3]\n",
      "[ True  True False  True False False False False False False]\n",
      "[80 40 44]\n"
     ]
    }
   ],
   "source": [
    "# Boolean indexing\n",
    "a = np.random.randint(1, 100, 10)\n",
    "b = a % 2 == 0\n",
    "print(a)\n",
    "print(b)\n",
    "print(a[b])"
   ]
  },
  {
   "cell_type": "code",
   "execution_count": 73,
   "metadata": {},
   "outputs": [
    {
     "name": "stdout",
     "output_type": "stream",
     "text": [
      "[70 92 53 76 72 18 59 14 30 21]\n",
      "[False False  True False False False False False False False]\n",
      "[53]\n"
     ]
    }
   ],
   "source": [
    "# Find number that has the last digit is 3\n",
    "a = np.random.randint(1, 100, 10)\n",
    "b = a % 10 == 3\n",
    "print(a)\n",
    "print(b)\n",
    "print(a[b])"
   ]
  },
  {
   "cell_type": "code",
   "execution_count": 75,
   "metadata": {},
   "outputs": [
    {
     "name": "stdout",
     "output_type": "stream",
     "text": [
      "[96 96 50 45 12 99 31 58 24 89]\n",
      "[False False  True False False False False  True False False]\n",
      "[50 58]\n"
     ]
    }
   ],
   "source": [
    "# Find number that has the first digit is 5\n",
    "a = np.random.randint(1, 100, 10)\n",
    "b = a // 10 == 5\n",
    "print(a)\n",
    "print(b)\n",
    "print(a[b])"
   ]
  },
  {
   "cell_type": "code",
   "execution_count": 80,
   "metadata": {},
   "outputs": [
    {
     "name": "stdout",
     "output_type": "stream",
     "text": [
      "[75 77 25 81 62 53 15 35 94  3]\n",
      "[7 7 2 8 6 5 1 3 9 0]\n",
      "[5 7 5 1 2 3 5 5 4 3]\n",
      "[75 77 94]\n"
     ]
    }
   ],
   "source": [
    "# Find numbers that has sum of digits > 10\n",
    "a = np.random.randint(1, 100, 10)\n",
    "b = a // 10\n",
    "c = a % 10\n",
    "print(a)\n",
    "print(b)\n",
    "print(c)\n",
    "print(a[(a // 10 + a % 10) > 10])"
   ]
  },
  {
   "cell_type": "code",
   "execution_count": 82,
   "metadata": {},
   "outputs": [
    {
     "name": "stdout",
     "output_type": "stream",
     "text": [
      "[[81  7 59 73 46]\n",
      " [63 81 63 26 97]\n",
      " [41 45 16 28 93]\n",
      " [82 12 49 80 14]\n",
      " [ 6 80 78 76 28]]\n",
      "28\n",
      "28\n"
     ]
    }
   ],
   "source": [
    "#\n",
    "# 2d Array indexing & slicing\n",
    "a = np.random.randint(1, 100, (5, 5))\n",
    "print(a)\n",
    "# Indexing list-style\n",
    "print(a[2][3])\n",
    "# Indexing array-style\n",
    "print(a[2, 3])"
   ]
  },
  {
   "cell_type": "code",
   "execution_count": 86,
   "metadata": {},
   "outputs": [
    {
     "name": "stdout",
     "output_type": "stream",
     "text": [
      "[[63 81 63 26 97]\n",
      " [41 45 16 28 93]\n",
      " [82 12 49 80 14]]\n",
      "[[ 7 59]\n",
      " [81 63]\n",
      " [45 16]\n",
      " [12 49]\n",
      " [80 78]]\n",
      "[[81 63]\n",
      " [45 16]\n",
      " [12 49]]\n"
     ]
    }
   ],
   "source": [
    "# Slice row\n",
    "print(a[1:4])\n",
    "# Slice columns\n",
    "print(a[:, 1:3])\n",
    "# Both\n",
    "print(a[1:4, 1:3])"
   ]
  },
  {
   "cell_type": "code",
   "execution_count": 87,
   "metadata": {},
   "outputs": [
    {
     "name": "stdout",
     "output_type": "stream",
     "text": [
      "5 (5, 5)\n"
     ]
    }
   ],
   "source": [
    "print(len(a), np.shape(a))"
   ]
  },
  {
   "cell_type": "code",
   "execution_count": 92,
   "metadata": {},
   "outputs": [
    {
     "name": "stdout",
     "output_type": "stream",
     "text": [
      "[81  7 59 73 46] [[81  7 59 73 46]]\n",
      "(5,) (1, 5)\n",
      "[[81]\n",
      " [ 7]\n",
      " [59]\n",
      " [73]\n",
      " [46]] (5, 1)\n"
     ]
    }
   ],
   "source": [
    "b = a[0]\n",
    "c = a[0:1, :]\n",
    "print(b ,c)\n",
    "print(np.shape(b), np.shape(c))\n",
    "\n",
    "# Transpose c\n",
    "d = c.T\n",
    "print(d, np.shape(d))"
   ]
  }
 ],
 "metadata": {
  "kernelspec": {
   "display_name": "Python 3.10.8 64-bit",
   "language": "python",
   "name": "python3"
  },
  "language_info": {
   "codemirror_mode": {
    "name": "ipython",
    "version": 3
   },
   "file_extension": ".py",
   "mimetype": "text/x-python",
   "name": "python",
   "nbconvert_exporter": "python",
   "pygments_lexer": "ipython3",
   "version": "3.10.8"
  },
  "orig_nbformat": 4,
  "vscode": {
   "interpreter": {
    "hash": "5cd147847f5c9c61d04539150fa2ef565c6a07a09a1f8c3016ed38fa032adcf0"
   }
  }
 },
 "nbformat": 4,
 "nbformat_minor": 2
}
