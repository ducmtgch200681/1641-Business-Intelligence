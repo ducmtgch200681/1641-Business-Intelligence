{
 "cells": [
  {
   "cell_type": "code",
   "execution_count": 1,
   "metadata": {},
   "outputs": [
    {
     "name": "stdout",
     "output_type": "stream",
     "text": [
      "Hello Jupiter\n"
     ]
    }
   ],
   "source": [
    "print('Hello Jupiter')"
   ]
  },
  {
   "cell_type": "code",
   "execution_count": 2,
   "metadata": {},
   "outputs": [
    {
     "name": "stdout",
     "output_type": "stream",
     "text": [
      "Another hello\n"
     ]
    }
   ],
   "source": [
    "print('Another hello')"
   ]
  },
  {
   "cell_type": "code",
   "execution_count": 3,
   "metadata": {},
   "outputs": [
    {
     "ename": "ValueError",
     "evalue": "invalid literal for int() with base 10: ''",
     "output_type": "error",
     "traceback": [
      "\u001b[1;31m---------------------------------------------------------------------------\u001b[0m",
      "\u001b[1;31mValueError\u001b[0m                                Traceback (most recent call last)",
      "Cell \u001b[1;32mIn [3], line 4\u001b[0m\n\u001b[0;32m      1\u001b[0m \u001b[39m# conditional statement\u001b[39;00m\n\u001b[0;32m      2\u001b[0m \u001b[39m# syntax: if <condition>:\u001b[39;00m\n\u001b[1;32m----> 4\u001b[0m a \u001b[39m=\u001b[39m \u001b[39mint\u001b[39;49m(\u001b[39minput\u001b[39;49m(\u001b[39m'\u001b[39;49m\u001b[39mEnter a: \u001b[39;49m\u001b[39m'\u001b[39;49m))\n\u001b[0;32m      5\u001b[0m b \u001b[39m=\u001b[39m \u001b[39mint\u001b[39m(\u001b[39minput\u001b[39m(\u001b[39m'\u001b[39m\u001b[39mEnter b: \u001b[39m\u001b[39m'\u001b[39m))\n\u001b[0;32m      6\u001b[0m \u001b[39mif\u001b[39;00m a \u001b[39m>\u001b[39m b:\n",
      "\u001b[1;31mValueError\u001b[0m: invalid literal for int() with base 10: ''"
     ]
    }
   ],
   "source": [
    "# conditional statement\n",
    "# syntax: if <condition>:\n",
    "\n",
    "a = int(input('Enter a: '))\n",
    "b = int(input('Enter b: '))\n",
    "if a > b:\n",
    "    m = a\n",
    "else:\n",
    "    m = b\n",
    "print('Max is', m)"
   ]
  },
  {
   "cell_type": "code",
   "execution_count": null,
   "metadata": {},
   "outputs": [
    {
     "name": "stdout",
     "output_type": "stream",
     "text": [
      "Max is 18\n"
     ]
    }
   ],
   "source": [
    "print('Max is', a if a > b else b)"
   ]
  },
  {
   "cell_type": "code",
   "execution_count": null,
   "metadata": {},
   "outputs": [],
   "source": [
    "a = int(input('Enter a: '))\n",
    "b = int(input('Enter b: '))\n",
    "c = int(input('Enter c: '))\n",
    "\n",
    "if a <= 0 or b <= 0 or c <= 0:\n",
    "    print('not allow negative')\n",
    "elif a + b <= c or b + c <= a or c + a <= b:\n",
    "    print('Sum of any two side should be greater than the third side')\n",
    "else:\n",
    "    print(f'{a}, {b}, {c} are side of a triangle')\n",
    "    p = (a + b + c) / 2\n",
    "    s = (p * (p - a) * (p - b) * (p - C)) ** 0.5\n",
    "    print('Area = {:.2f}'.format(s)) "
   ]
  },
  {
   "cell_type": "code",
   "execution_count": null,
   "metadata": {},
   "outputs": [
    {
     "name": "stdout",
     "output_type": "stream",
     "text": [
      "|100       |\n",
      "|      3.14|\n",
      "|    hello python    |\n"
     ]
    }
   ],
   "source": [
    "a = 100\n",
    "b = 3.1415\n",
    "s = 'hello python'\n",
    "\n",
    "# print integer, left align, 10 spaces\n",
    "print('|{:<10d}|'.format(a))\n",
    "# print float, right align, 10 spaces, 2 demical places\n",
    "print('|{:>10.2f}|'.format(b))\n",
    "# print string, canter align, 20 spaces\n",
    "print('|{:^20s}|'.format(s))"
   ]
  },
  {
   "cell_type": "code",
   "execution_count": null,
   "metadata": {},
   "outputs": [
    {
     "name": "stdout",
     "output_type": "stream",
     "text": [
      "English   :       4.0\n",
      "Math      :       9.0\n",
      "Science   :      10.0\n",
      "Average   :      7.67\n",
      "Rank      :     Merit\n"
     ]
    }
   ],
   "source": [
    "# Write a program that asks the user to enter 3 grades (english, math, science)\n",
    "# calculate average and print the grades along with the average\n",
    "e = float(input('Enter English grade: '))\n",
    "m = float(input('Enter Math grade: '))\n",
    "s = float(input('Enter Science grade: '))\n",
    "\n",
    "a = (e + m + s) / 3\n",
    "\n",
    "if a < 0:\n",
    "    r = 'Invalid grade!'\n",
    "elif a <= 4:\n",
    "    r = 'Fail'\n",
    "elif a <= 6:\n",
    "    r = 'Pass'\n",
    "elif a <= 8:\n",
    "    r = 'Merit'\n",
    "elif a <= 10:\n",
    "    r = 'Distinction'\n",
    "elif a > 10:\n",
    "    r = 'Invalid grade!'\n",
    "\n",
    "print('{:<10s}:{:>15.1f}'.format('English', e))\n",
    "print('{:<10s}:{:>15.1f}'.format('Math', m))\n",
    "print('{:<10s}:{:>15.1f}'.format('Science', s))\n",
    "print('{:<10s}:{:>15.2f}'.format('Average', a))\n",
    "print('{:<10s}:{:>15s}'.format('Rank', r))"
   ]
  },
  {
   "cell_type": "code",
   "execution_count": null,
   "metadata": {},
   "outputs": [],
   "source": [
    "for i in range(10): # for (int i = 0; i < 10; i++)\n",
    "    print(i, end=' ')"
   ]
  },
  {
   "cell_type": "code",
   "execution_count": null,
   "metadata": {},
   "outputs": [],
   "source": [
    "for i in range(1, 20, 2): # for (int i = 1; i < 20; i += 2)\n",
    "    print(i, end=' ')"
   ]
  },
  {
   "cell_type": "code",
   "execution_count": null,
   "metadata": {},
   "outputs": [],
   "source": [
    "for i in range(10, 0, -1): # for (int i = 10; i > 0; i--)\n",
    "    print(i, end=' ')"
   ]
  },
  {
   "cell_type": "code",
   "execution_count": null,
   "metadata": {},
   "outputs": [
    {
     "name": "stdout",
     "output_type": "stream",
     "text": [
      "21\n"
     ]
    }
   ],
   "source": [
    "# Enter n, calculate 1 + 2 + 3 + ... + n\n",
    "n = int(input('Enter n: '))\n",
    "s = 0\n",
    "for i in range(1, n + 1):\n",
    "    s += i\n",
    "print(s)"
   ]
  },
  {
   "cell_type": "code",
   "execution_count": null,
   "metadata": {},
   "outputs": [
    {
     "name": "stdout",
     "output_type": "stream",
     "text": [
      "42\n"
     ]
    }
   ],
   "source": [
    "#Enter n, calculate even number from 1 to n (inculsive)\n",
    "n = int(input('Enter n: '))\n",
    "s = 0\n",
    "for i in range(2, n + 1, 2):\n",
    "    s += i\n",
    "print(s)"
   ]
  },
  {
   "cell_type": "code",
   "execution_count": null,
   "metadata": {},
   "outputs": [
    {
     "name": "stdout",
     "output_type": "stream",
     "text": [
      "* \n",
      "* * \n",
      "* * * \n",
      "* * * * \n",
      "* * * * * \n",
      "* \n",
      "* * \n",
      "* * * \n",
      "* * * * \n",
      "* * * * * \n"
     ]
    }
   ],
   "source": [
    "#Enter n, print triangle of stars\n",
    "#*\n",
    "#**\n",
    "#***\n",
    "#****\n",
    "n = int(input('Enter n: '))\n",
    "# b = int(input('Enter b: '))\n",
    "\n",
    "for i in range(1, n + 1):\n",
    "    for o in range(1, i + 1):\n",
    "        print('*', end=' ')\n",
    "    print()\n",
    "\n",
    "for i in range(1, n + 1):\n",
    "    print('* ' * i)"
   ]
  },
  {
   "cell_type": "code",
   "execution_count": null,
   "metadata": {},
   "outputs": [
    {
     "name": "stdout",
     "output_type": "stream",
     "text": [
      "1 \n",
      "1 2 \n",
      "1 2 3 \n",
      "1 2 3 4 \n"
     ]
    }
   ],
   "source": [
    "#Enter n, print triangle of numbers\n",
    "#1\n",
    "#1 2\n",
    "#1 2 3\n",
    "#1 2 3 4\n",
    "n = int(input('Enter n: '))\n",
    "for i in range(1, n + 1):\n",
    "    for o in range(1, i + 1):\n",
    "        print(o, end=' ')\n",
    "    print()"
   ]
  },
  {
   "cell_type": "code",
   "execution_count": null,
   "metadata": {},
   "outputs": [
    {
     "name": "stdout",
     "output_type": "stream",
     "text": [
      "Stop here!\n",
      "Sum =  97\n"
     ]
    }
   ],
   "source": [
    "s = 0\n",
    "n = 1\n",
    "while n > 0:\n",
    "    n = int(input('Enter n: '))\n",
    "    if n > 0:\n",
    "        s = s + n\n",
    "    else:\n",
    "        print('Stop here!')\n",
    "\n",
    "print('Sum = ', s)"
   ]
  },
  {
   "cell_type": "code",
   "execution_count": null,
   "metadata": {},
   "outputs": [
    {
     "name": "stdout",
     "output_type": "stream",
     "text": [
      "Movie ticket: $2.50\n",
      "Bill           :      12.5\n",
      "To Pay: $7.50\n",
      "To Pay: $2.50\n",
      "Change: $2.50\n"
     ]
    }
   ],
   "source": [
    "TICKET_PRICE = 2.5\n",
    "print(f'Movie ticket: ${TICKET_PRICE:.2f}')\n",
    "n = int(input('Enter number of tickets: '))\n",
    "payment = TICKET_PRICE * n\n",
    "print('{:<15s}:{:>10.1f}'.format('Bill', payment))\n",
    "while payment > 0:\n",
    "    # print('{:<15s}:{:>10.1f}'.format('To Pay', payment))\n",
    "    coin = int(input('Insert Coin: '))\n",
    "    if coin not in (1, 2, 5):\n",
    "        print('Invalid Coin!')\n",
    "        continue\n",
    "\n",
    "    # print('{:<15s}:{:>10d}'.format('Insert Coin', coin))\n",
    "    # if payment < coin:\n",
    "    #     print('{:<15s}:{:>10.1f}'.format('Your Change', coin - payment))\n",
    "    payment -= coin\n",
    "    if payment > 0:\n",
    "        print(f'To Pay: ${payment:.2f}')\n",
    "    else:\n",
    "        print(f'Change: ${-payment:.2f}')\n"
   ]
  }
 ],
 "metadata": {
  "kernelspec": {
   "display_name": "Python 3.10.8 64-bit",
   "language": "python",
   "name": "python3"
  },
  "language_info": {
   "codemirror_mode": {
    "name": "ipython",
    "version": 3
   },
   "file_extension": ".py",
   "mimetype": "text/x-python",
   "name": "python",
   "nbconvert_exporter": "python",
   "pygments_lexer": "ipython3",
   "version": "3.10.8"
  },
  "orig_nbformat": 4,
  "vscode": {
   "interpreter": {
    "hash": "5cd147847f5c9c61d04539150fa2ef565c6a07a09a1f8c3016ed38fa032adcf0"
   }
  }
 },
 "nbformat": 4,
 "nbformat_minor": 2
}
